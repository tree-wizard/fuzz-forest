{
 "cells": [
  {
   "attachments": {},
   "cell_type": "markdown",
   "metadata": {},
   "source": [
    "Codex Twisted Fuzzer Results:"
   ]
  },
  {
   "cell_type": "code",
   "execution_count": 1,
   "metadata": {},
   "outputs": [
    {
     "name": "stderr",
     "output_type": "stream",
     "text": [
      "INFO: Instrumenting 21058 functions...\n"
     ]
    },
    {
     "name": "stdout",
     "output_type": "stream",
     "text": [
      "INFO: Instrumentation complete.\n"
     ]
    },
    {
     "name": "stderr",
     "output_type": "stream",
     "text": [
      "INFO: Using built-in libfuzzer\n",
      "WARNING: Failed to find function \"__sanitizer_acquire_crash_state\".\n",
      "WARNING: Failed to find function \"__sanitizer_print_stack_trace\".\n",
      "WARNING: Failed to find function \"__sanitizer_set_death_callback\".\n",
      "INFO: libFuzzer ignores flags that start with '--'\n",
      "INFO: Running with entropic power schedule (0xFF, 100).\n",
      "INFO: Seed: 1097503764\n",
      "INFO: -max_len is not provided; libFuzzer will not generate inputs larger than 4096 bytes\n",
      "INFO: A corpus is not provided, starting from an empty corpus\n",
      "#2\tINITED cov: 3 ft: 3 corp: 1/1b exec/s: 0 rss: 745Mb\n",
      "#113\tNEW    cov: 104 ft: 104 corp: 2/3b lim: 4 exec/s: 0 rss: 745Mb L: 2/2 MS: 1 InsertByte-\n",
      "#277\tNEW    cov: 105 ft: 105 corp: 3/7b lim: 4 exec/s: 0 rss: 745Mb L: 4/4 MS: 4 CopyPart-CopyPart-ChangeBit-ChangeByte-\n",
      "#1108\tNEW    cov: 159 ft: 163 corp: 4/9b lim: 11 exec/s: 0 rss: 745Mb L: 2/4 MS: 1 ShuffleBytes-\n",
      "#1605\tNEW    cov: 175 ft: 179 corp: 5/16b lim: 14 exec/s: 0 rss: 745Mb L: 7/7 MS: 2 CopyPart-InsertByte-\n",
      "#3106\tNEW    cov: 176 ft: 180 corp: 6/20b lim: 25 exec/s: 0 rss: 745Mb L: 4/7 MS: 1 CopyPart-\n",
      "#16879\tNEW    cov: 177 ft: 181 corp: 7/29b lim: 156 exec/s: 0 rss: 745Mb L: 9/9 MS: 3 CopyPart-CopyPart-CMP- DE: \"bytes\"-\n",
      "#19890\tREDUCE cov: 177 ft: 181 corp: 7/28b lim: 184 exec/s: 0 rss: 745Mb L: 8/8 MS: 1 CrossOver-\n",
      "#20393\tNEW    cov: 272 ft: 281 corp: 8/30b lim: 184 exec/s: 0 rss: 745Mb L: 2/8 MS: 3 ShuffleBytes-ChangeBit-ChangeBit-\n",
      "#20853\tNEW    cov: 291 ft: 325 corp: 9/84b lim: 184 exec/s: 0 rss: 745Mb L: 54/54 MS: 5 PersAutoDict-EraseBytes-InsertRepeatedBytes-CrossOver-ChangeByte- DE: \"bytes\"-\n",
      "#21286\tNEW    cov: 291 ft: 331 corp: 10/264b lim: 184 exec/s: 0 rss: 745Mb L: 180/180 MS: 3 InsertRepeatedBytes-InsertRepeatedBytes-ChangeByte-\n",
      "#22330\tNEW    cov: 292 ft: 346 corp: 11/408b lim: 191 exec/s: 0 rss: 745Mb L: 144/180 MS: 4 InsertRepeatedBytes-InsertRepeatedBytes-ShuffleBytes-CMP- DE: \")ytes\"-\n",
      "#23333\tNEW    cov: 303 ft: 405 corp: 12/553b lim: 198 exec/s: 0 rss: 745Mb L: 145/180 MS: 3 ChangeByte-PersAutoDict-InsertByte- DE: \")ytes\"-\n",
      "#43889\tNEW    cov: 303 ft: 406 corp: 13/557b lim: 397 exec/s: 0 rss: 745Mb L: 4/180 MS: 1 ChangeBit-\n",
      "#131072\tpulse  cov: 303 ft: 406 corp: 13/557b lim: 1260 exec/s: 65536 rss: 745Mb\n",
      "#262144\tpulse  cov: 303 ft: 406 corp: 13/557b lim: 2567 exec/s: 87381 rss: 745Mb\n",
      "#524288\tpulse  cov: 303 ft: 406 corp: 13/557b lim: 4096 exec/s: 87381 rss: 745Mb\n",
      "#1048576\tpulse  cov: 303 ft: 406 corp: 13/557b lim: 4096 exec/s: 95325 rss: 745Mb\n",
      "#2097152\tpulse  cov: 303 ft: 406 corp: 13/557b lim: 4096 exec/s: 95325 rss: 745Mb\n",
      "#2118945\tNEW    cov: 303 ft: 410 corp: 14/701b lim: 4096 exec/s: 96315 rss: 745Mb L: 144/180 MS: 1 ChangeByte-\n",
      "#2119929\tNEW    cov: 303 ft: 413 corp: 15/861b lim: 4096 exec/s: 96360 rss: 745Mb L: 160/180 MS: 4 ChangeBinInt-ChangeByte-InsertRepeatedBytes-EraseBytes-\n",
      "#2135124\tNEW    cov: 303 ft: 416 corp: 16/1174b lim: 4096 exec/s: 97051 rss: 745Mb L: 313/313 MS: 5 ChangeBit-CrossOver-InsertRepeatedBytes-PersAutoDict-CrossOver- DE: \")ytes\"-\n",
      "#2135199\tNEW    cov: 303 ft: 423 corp: 17/1756b lim: 4096 exec/s: 97054 rss: 745Mb L: 582/582 MS: 5 ChangeBinInt-CrossOver-CrossOver-CrossOver-ShuffleBytes-\n",
      "#2135422\tNEW    cov: 303 ft: 424 corp: 18/2288b lim: 4096 exec/s: 97064 rss: 745Mb L: 532/582 MS: 3 PersAutoDict-PersAutoDict-EraseBytes- DE: \"bytes\"-\"bytes\"-\n",
      "#4194304\tpulse  cov: 303 ft: 424 corp: 18/2288b lim: 4096 exec/s: 95325 rss: 745Mb\n",
      "#8388608\tpulse  cov: 303 ft: 424 corp: 18/2288b lim: 4096 exec/s: 97541 rss: 745Mb\n",
      "#16777216\tpulse  cov: 303 ft: 424 corp: 18/2288b lim: 4096 exec/s: 94786 rss: 745Mb\n",
      "#33554432\tpulse  cov: 303 ft: 424 corp: 18/2288b lim: 4096 exec/s: 92948 rss: 745Mb\n",
      "#67108864\tpulse  cov: 303 ft: 424 corp: 18/2288b lim: 4096 exec/s: 92436 rss: 745Mb\n",
      "#134217728\tpulse  cov: 303 ft: 424 corp: 18/2288b lim: 4096 exec/s: 87781 rss: 745Mb\n",
      "#268435456\tpulse  cov: 303 ft: 424 corp: 18/2288b lim: 4096 exec/s: 85434 rss: 745Mb\n",
      "#536870912\tpulse  cov: 303 ft: 424 corp: 18/2288b lim: 4096 exec/s: 84947 rss: 745Mb\n"
     ]
    },
    {
     "name": "stdout",
     "output_type": "stream",
     "text": [
      "KeyboardInterrupt: stopping.\n"
     ]
    },
    {
     "ename": "SystemExit",
     "evalue": "130",
     "output_type": "error",
     "traceback": [
      "An exception has occurred, use %tb to see the full traceback.\n",
      "\u001b[0;31mSystemExit\u001b[0m\u001b[0;31m:\u001b[0m 130\n"
     ]
    },
    {
     "name": "stderr",
     "output_type": "stream",
     "text": [
      "/home/x/.local/lib/python3.9/site-packages/IPython/core/interactiveshell.py:3468: UserWarning: To exit: use 'exit', 'quit', or Ctrl-D.\n",
      "  warn(\"To exit: use 'exit', 'quit', or Ctrl-D.\", stacklevel=1)\n"
     ]
    }
   ],
   "source": [
    "# fuzz tests for twisted.web.http\n",
    "# https://docs.twisted.org/en/stable/api/twisted.web.http.html\n",
    "\n",
    "# function signature is twisted.web.http.parseContentRange(header)\n",
    "# https://docs.twisted.org/en/stable/api/twisted.web.http.html#parseContentRange\n",
    "# fuzz test for twisted.web.http.parseContentRange():\n",
    "import sys\n",
    "import atheris\n",
    "from twisted.web import http\n",
    "\n",
    "def TestOneInput(data):\n",
    "    fdp = atheris.FuzzedDataProvider(data)\n",
    "    original = fdp.ConsumeUnicode(sys.maxsize)\n",
    "    try:\n",
    "        http.parseContentRange(original)\n",
    "    except ValueError:\n",
    "        None\n",
    "    return\n",
    "\n",
    "def main():\n",
    "    atheris.Setup(sys.argv, TestOneInput)\n",
    "    atheris.Fuzz()\n",
    "\n",
    "if __name__ == \"__main__\":\n",
    "    atheris.instrument_all()\n",
    "    main()"
   ]
  },
  {
   "cell_type": "code",
   "execution_count": 1,
   "metadata": {},
   "outputs": [
    {
     "name": "stderr",
     "output_type": "stream",
     "text": [
      "INFO: Instrumenting 21058 functions...\n"
     ]
    },
    {
     "name": "stdout",
     "output_type": "stream",
     "text": [
      "INFO: Instrumentation complete.\n",
      "\n",
      " === Uncaught Python exception: ===\n",
      "TypeError: must be str or None, not bytes\n",
      "Traceback (most recent call last):\n",
      "  File \"/tmp/ipykernel_1778453/272819438.py\", line 13, in TestOneInput\n",
      "    response = http.parse_qs(original)\n",
      "  File \"/home/x/miniconda3/envs/tf/lib/python3.9/site-packages/twisted/web/http.py\", line 273, in parse_qs\n",
      "    items = [s2 for s1 in qs.split(b\"&\") for s2 in s1.split(b\";\")]\n",
      "TypeError: must be str or None, not bytes\n",
      "\n"
     ]
    },
    {
     "name": "stderr",
     "output_type": "stream",
     "text": [
      "INFO: Using built-in libfuzzer\n",
      "WARNING: Failed to find function \"__sanitizer_acquire_crash_state\".\n",
      "WARNING: Failed to find function \"__sanitizer_print_stack_trace\".\n",
      "WARNING: Failed to find function \"__sanitizer_set_death_callback\".\n",
      "INFO: libFuzzer ignores flags that start with '--'\n",
      "INFO: Running with entropic power schedule (0xFF, 100).\n",
      "INFO: Seed: 2242440080\n",
      "INFO: -max_len is not provided; libFuzzer will not generate inputs larger than 4096 bytes\n"
     ]
    },
    {
     "ename": "SystemExit",
     "evalue": "-1",
     "output_type": "error",
     "traceback": [
      "An exception has occurred, use %tb to see the full traceback.\n",
      "\u001b[0;31mSystemExit\u001b[0m\u001b[0;31m:\u001b[0m -1\n"
     ]
    },
    {
     "name": "stderr",
     "output_type": "stream",
     "text": [
      "/home/x/.local/lib/python3.9/site-packages/IPython/core/interactiveshell.py:3468: UserWarning: To exit: use 'exit', 'quit', or Ctrl-D.\n",
      "  warn(\"To exit: use 'exit', 'quit', or Ctrl-D.\", stacklevel=1)\n"
     ]
    }
   ],
   "source": [
    "# function signature is twisted.web.http.parse_qs(qs, keep_blank_values=0, strict_parsing=0)\n",
    "# https://docs.twisted.org/en/stable/api/twisted.web.http.html#parse_qs\n",
    "# fuzz test for twisted.web.http.parse_qs(q):\n",
    "import sys\n",
    "import atheris\n",
    "from twisted.web import http\n",
    "\n",
    "def TestOneInput(data):\n",
    "    fdp = atheris.FuzzedDataProvider(data)\n",
    "    original = fdp.ConsumeUnicode(sys.maxsize)\n",
    "\n",
    "    try:\n",
    "        response = http.parse_qs(original)\n",
    "        response.keys()\n",
    "        response.values()\n",
    "    except ValueError:\n",
    "        None\n",
    "    return\n",
    "\n",
    "def main():\n",
    "    atheris.Setup(sys.argv, TestOneInput)\n",
    "    atheris.Fuzz()\n",
    "\n",
    "\n",
    "if __name__ == \"__main__\":\n",
    "    atheris.instrument_all()\n",
    "    main()"
   ]
  },
  {
   "cell_type": "code",
   "execution_count": 1,
   "metadata": {},
   "outputs": [
    {
     "name": "stderr",
     "output_type": "stream",
     "text": [
      "INFO: Instrumenting 21058 functions...\n"
     ]
    },
    {
     "name": "stdout",
     "output_type": "stream",
     "text": [
      "INFO: Instrumentation complete.\n"
     ]
    },
    {
     "name": "stderr",
     "output_type": "stream",
     "text": [
      "INFO: Using built-in libfuzzer\n",
      "WARNING: Failed to find function \"__sanitizer_acquire_crash_state\".\n",
      "WARNING: Failed to find function \"__sanitizer_print_stack_trace\".\n",
      "WARNING: Failed to find function \"__sanitizer_set_death_callback\".\n",
      "INFO: libFuzzer ignores flags that start with '--'\n",
      "INFO: Running with entropic power schedule (0xFF, 100).\n",
      "INFO: Seed: 679533196\n",
      "INFO: -max_len is not provided; libFuzzer will not generate inputs larger than 4096 bytes\n",
      "INFO: A corpus is not provided, starting from an empty corpus\n",
      "#2\tINITED cov: 3 ft: 3 corp: 1/1b exec/s: 0 rss: 763Mb\n",
      "#95\tNEW    cov: 62 ft: 62 corp: 2/4b lim: 4 exec/s: 0 rss: 763Mb L: 3/3 MS: 3 CrossOver-CrossOver-ChangeBit-\n",
      "#1154\tNEW    cov: 183 ft: 188 corp: 3/6b lim: 14 exec/s: 0 rss: 763Mb L: 2/3 MS: 4 ChangeByte-InsertByte-CrossOver-CrossOver-\n",
      "#22355\tNEW    cov: 277 ft: 289 corp: 4/8b lim: 219 exec/s: 0 rss: 763Mb L: 2/3 MS: 1 ChangeByte-\n",
      "#22878\tNEW    cov: 300 ft: 358 corp: 5/12b lim: 219 exec/s: 0 rss: 763Mb L: 4/4 MS: 3 EraseBytes-InsertByte-CrossOver-\n",
      "#23324\tNEW    cov: 301 ft: 367 corp: 6/13b lim: 219 exec/s: 0 rss: 763Mb L: 1/4 MS: 1 ChangeByte-\n",
      "#23850\tNEW    cov: 301 ft: 426 corp: 7/17b lim: 219 exec/s: 0 rss: 763Mb L: 4/4 MS: 1 ChangeBinInt-\n",
      "#45692\tNEW    cov: 301 ft: 427 corp: 8/21b lim: 429 exec/s: 0 rss: 763Mb L: 4/4 MS: 2 ShuffleBytes-ChangeBit-\n",
      "#45965\tNEW    cov: 301 ft: 450 corp: 9/115b lim: 429 exec/s: 0 rss: 763Mb L: 94/94 MS: 3 ChangeBit-InsertRepeatedBytes-ChangeByte-\n",
      "#46040\tNEW    cov: 301 ft: 458 corp: 10/127b lim: 429 exec/s: 0 rss: 763Mb L: 12/94 MS: 5 InsertByte-ChangeBit-CrossOver-InsertByte-CopyPart-\n",
      "#65318\tNEW    cov: 301 ft: 465 corp: 11/137b lim: 616 exec/s: 0 rss: 763Mb L: 10/94 MS: 3 EraseBytes-ChangeByte-CrossOver-\n",
      "#67042\tNEW    cov: 301 ft: 472 corp: 12/176b lim: 625 exec/s: 0 rss: 763Mb L: 39/94 MS: 4 CrossOver-CopyPart-ShuffleBytes-InsertRepeatedBytes-\n",
      "#67530\tNEW    cov: 301 ft: 484 corp: 13/183b lim: 625 exec/s: 0 rss: 763Mb L: 7/94 MS: 3 InsertRepeatedBytes-InsertByte-ShuffleBytes-\n",
      "#88278\tNEW    cov: 301 ft: 485 corp: 14/185b lim: 823 exec/s: 0 rss: 763Mb L: 2/94 MS: 3 EraseBytes-InsertByte-ChangeByte-\n",
      "#111405\tNEW    cov: 301 ft: 509 corp: 15/186b lim: 1050 exec/s: 111405 rss: 763Mb L: 1/94 MS: 2 ChangeByte-ChangeBit-\n",
      "#112369\tNEW    cov: 301 ft: 527 corp: 16/242b lim: 1050 exec/s: 112369 rss: 763Mb L: 56/94 MS: 4 CopyPart-ShuffleBytes-ChangeByte-InsertRepeatedBytes-\n",
      "#133980\tNEW    cov: 301 ft: 531 corp: 17/320b lim: 1260 exec/s: 133980 rss: 763Mb L: 78/94 MS: 1 InsertRepeatedBytes-\n",
      "#262144\tpulse  cov: 301 ft: 531 corp: 17/320b lim: 2534 exec/s: 131072 rss: 763Mb\n",
      "#524288\tpulse  cov: 301 ft: 531 corp: 17/320b lim: 4096 exec/s: 104857 rss: 763Mb\n",
      "#1048576\tpulse  cov: 301 ft: 531 corp: 17/320b lim: 4096 exec/s: 104857 rss: 763Mb\n"
     ]
    },
    {
     "name": "stdout",
     "output_type": "stream",
     "text": [
      "KeyboardInterrupt: stopping.\n"
     ]
    },
    {
     "ename": "SystemExit",
     "evalue": "130",
     "output_type": "error",
     "traceback": [
      "An exception has occurred, use %tb to see the full traceback.\n",
      "\u001b[0;31mSystemExit\u001b[0m\u001b[0;31m:\u001b[0m 130\n"
     ]
    },
    {
     "name": "stderr",
     "output_type": "stream",
     "text": [
      "/home/x/.local/lib/python3.9/site-packages/IPython/core/interactiveshell.py:3468: UserWarning: To exit: use 'exit', 'quit', or Ctrl-D.\n",
      "  warn(\"To exit: use 'exit', 'quit', or Ctrl-D.\", stacklevel=1)\n"
     ]
    }
   ],
   "source": [
    "# function signature is twisted.web.http.fromChunk(data: bytes) -> Tuple[bytes, bytes]:\n",
    "# https://docs.twisted.org/en/stable/api/twisted.web.http.html#fromChunk\n",
    "# fuzz test for twisted.web.http.fromChunk():\n",
    "import sys\n",
    "import atheris\n",
    "from twisted.web import http\n",
    "\n",
    "def TestOneInput(data):\n",
    "    fdp = atheris.FuzzedDataProvider(data)\n",
    "    original = fdp.ConsumeUnicode(sys.maxsize)\n",
    "\n",
    "    try:\n",
    "        response = http.fromChunk(original)\n",
    "        response[0] # bytes, the chunk data itself (without the trailing CRLF).  This is always present in a valid chunk header, even if it's empty (i.e., 0\\r\\n).\n",
    "        response[1] \n",
    "    except TypeError:\n",
    "        return # Ignore all exceptions\n",
    "\n",
    "    return\n",
    "\n",
    "def main():\n",
    "    atheris.instrument_all()\n",
    "    atheris.Setup(sys.argv, TestOneInput)\n",
    "    atheris.Fuzz()\n",
    "\n",
    "if __name__ == \"__main__\":\n",
    "        main()"
   ]
  },
  {
   "attachments": {},
   "cell_type": "markdown",
   "metadata": {},
   "source": [
    "# fuzz tests for twisted.web.microdom\n",
    "# https://docs.twisted.org/en/stable/api/twisted.web.microdom.html"
   ]
  },
  {
   "cell_type": "code",
   "execution_count": 1,
   "metadata": {},
   "outputs": [
    {
     "name": "stderr",
     "output_type": "stream",
     "text": [
      "INFO: Instrumenting 20447 functions...\n"
     ]
    },
    {
     "name": "stdout",
     "output_type": "stream",
     "text": [
      "INFO: Instrumentation complete.\n",
      "\n",
      " === Uncaught Python exception: ===\n",
      "FileNotFoundError: [Errno 2] No such file or directory: ''\n",
      "Traceback (most recent call last):\n",
      "  File \"/tmp/ipykernel_1831698/3857267144.py\", line 12, in TestOneInput\n",
      "    microdom.parseXML(original)\n",
      "  File \"/home/x/miniconda3/envs/tf/lib/python3.9/site-packages/twisted/web/microdom.py\", line 1165, in parseXML\n",
      "    return parse(readable, caseInsensitive=0, preserveCase=1)\n",
      "  File \"/home/x/miniconda3/envs/tf/lib/python3.9/site-packages/twisted/web/microdom.py\", line 1120, in parse\n",
      "    readable = open(readable, \"rb\")\n",
      "FileNotFoundError: [Errno 2] No such file or directory: ''\n",
      "\n"
     ]
    },
    {
     "name": "stderr",
     "output_type": "stream",
     "text": [
      "INFO: Using built-in libfuzzer\n",
      "WARNING: Failed to find function \"__sanitizer_acquire_crash_state\".\n",
      "WARNING: Failed to find function \"__sanitizer_print_stack_trace\".\n",
      "WARNING: Failed to find function \"__sanitizer_set_death_callback\".\n",
      "INFO: libFuzzer ignores flags that start with '--'\n",
      "INFO: Running with entropic power schedule (0xFF, 100).\n",
      "INFO: Seed: 2835717908\n",
      "INFO: -max_len is not provided; libFuzzer will not generate inputs larger than 4096 bytes\n"
     ]
    },
    {
     "ename": "SystemExit",
     "evalue": "-1",
     "output_type": "error",
     "traceback": [
      "An exception has occurred, use %tb to see the full traceback.\n",
      "\u001b[0;31mSystemExit\u001b[0m\u001b[0;31m:\u001b[0m -1\n"
     ]
    },
    {
     "name": "stderr",
     "output_type": "stream",
     "text": [
      "/home/x/.local/lib/python3.9/site-packages/IPython/core/interactiveshell.py:3468: UserWarning: To exit: use 'exit', 'quit', or Ctrl-D.\n",
      "  warn(\"To exit: use 'exit', 'quit', or Ctrl-D.\", stacklevel=1)\n"
     ]
    },
    {
     "name": "stdout",
     "output_type": "stream",
     "text": [
      "\n",
      " === Timeout: 302s elapsed, timeout=300s ===\n"
     ]
    }
   ],
   "source": [
    "# function signature is twisted.web.microdom.parseXML(readable)\n",
    "# https://docs.twisted.org/en/stable/api/twisted.web.microdom.html#parseString\n",
    "# fuzz test for twisted.web.microdom.parseXML():\n",
    "import sys\n",
    "import atheris\n",
    "from twisted.web import microdom\n",
    "\n",
    "def TestOneInput(data):\n",
    "    fdp = atheris.FuzzedDataProvider(data)\n",
    "    original = fdp.ConsumeUnicode(sys.maxsize)\n",
    "    try:\n",
    "        microdom.parseXML(original)\n",
    "    except microdom.ParseError:\n",
    "        None\n",
    "    return\n",
    "\n",
    "def main():\n",
    "    atheris.Setup(sys.argv, TestOneInput)\n",
    "    atheris.Fuzz()\n",
    "\n",
    "if __name__ == \"__main__\":\n",
    "    atheris.instrument_all()\n",
    "    main()"
   ]
  },
  {
   "cell_type": "code",
   "execution_count": 1,
   "metadata": {},
   "outputs": [
    {
     "name": "stderr",
     "output_type": "stream",
     "text": [
      "INFO: Instrumenting 20449 functions...\n"
     ]
    },
    {
     "name": "stdout",
     "output_type": "stream",
     "text": [
      "INFO: Instrumentation complete.\n"
     ]
    },
    {
     "name": "stderr",
     "output_type": "stream",
     "text": [
      "INFO: Using built-in libfuzzer\n",
      "WARNING: Failed to find function \"__sanitizer_acquire_crash_state\".\n",
      "WARNING: Failed to find function \"__sanitizer_print_stack_trace\".\n",
      "WARNING: Failed to find function \"__sanitizer_set_death_callback\".\n",
      "INFO: libFuzzer ignores flags that start with '--'\n",
      "INFO: Running with entropic power schedule (0xFF, 100).\n",
      "INFO: Seed: 1423197175\n",
      "INFO: -max_len is not provided; libFuzzer will not generate inputs larger than 4096 bytes\n",
      "INFO: A corpus is not provided, starting from an empty corpus\n",
      "#2\tINITED cov: 58 ft: 58 corp: 1/1b exec/s: 0 rss: 770Mb\n",
      "#3\tNEW    cov: 117 ft: 117 corp: 2/2b lim: 4 exec/s: 0 rss: 770Mb L: 1/1 MS: 1 ChangeBit-\n",
      "#7\tNEW    cov: 125 ft: 143 corp: 3/5b lim: 4 exec/s: 0 rss: 770Mb L: 3/3 MS: 4 ChangeByte-CrossOver-CrossOver-CopyPart-\n",
      "#13\tNEW    cov: 126 ft: 144 corp: 4/7b lim: 4 exec/s: 0 rss: 770Mb L: 2/3 MS: 1 InsertByte-\n",
      "#15\tNEW    cov: 128 ft: 147 corp: 5/11b lim: 4 exec/s: 0 rss: 770Mb L: 4/4 MS: 2 CMP-CopyPart- DE: \"\\000\\000\"-\n",
      "#22\tNEW    cov: 240 ft: 263 corp: 6/13b lim: 4 exec/s: 0 rss: 770Mb L: 2/4 MS: 2 PersAutoDict-ChangeBinInt- DE: \"\\000\\000\"-\n",
      "#205\tNEW    cov: 240 ft: 265 corp: 7/17b lim: 4 exec/s: 0 rss: 770Mb L: 4/4 MS: 3 CrossOver-ChangeBinInt-ChangeByte-\n",
      "#224\tREDUCE cov: 240 ft: 265 corp: 7/16b lim: 4 exec/s: 0 rss: 770Mb L: 2/4 MS: 4 ChangeBit-InsertByte-CopyPart-EraseBytes-\n",
      "#249\tNEW    cov: 244 ft: 270 corp: 8/18b lim: 4 exec/s: 0 rss: 770Mb L: 2/4 MS: 5 InsertByte-ShuffleBytes-ChangeBit-EraseBytes-ChangeBit-\n",
      "#267\tNEW    cov: 253 ft: 280 corp: 9/22b lim: 4 exec/s: 0 rss: 770Mb L: 4/4 MS: 3 PersAutoDict-ChangeByte-CopyPart- DE: \"\\000\\000\"-\n",
      "#273\tNEW    cov: 255 ft: 286 corp: 10/26b lim: 4 exec/s: 0 rss: 770Mb L: 4/4 MS: 1 ChangeByte-\n",
      "#277\tNEW    cov: 255 ft: 289 corp: 11/30b lim: 4 exec/s: 0 rss: 770Mb L: 4/4 MS: 4 ShuffleBytes-ChangeBinInt-ChangeBit-ChangeByte-\n",
      "#326\tNEW    cov: 255 ft: 292 corp: 12/34b lim: 4 exec/s: 0 rss: 770Mb L: 4/4 MS: 4 ShuffleBytes-ChangeBinInt-CrossOver-CopyPart-\n",
      "#342\tREDUCE cov: 255 ft: 292 corp: 12/33b lim: 4 exec/s: 0 rss: 770Mb L: 3/4 MS: 1 EraseBytes-\n",
      "#343\tNEW    cov: 258 ft: 298 corp: 13/37b lim: 4 exec/s: 0 rss: 770Mb L: 4/4 MS: 1 ChangeBit-\n",
      "#367\tREDUCE cov: 258 ft: 298 corp: 13/36b lim: 4 exec/s: 0 rss: 770Mb L: 3/4 MS: 4 EraseBytes-PersAutoDict-CrossOver-InsertByte- DE: \"\\000\\000\"-\n",
      "#423\tNEW    cov: 259 ft: 299 corp: 14/40b lim: 4 exec/s: 0 rss: 770Mb L: 4/4 MS: 1 ChangeBit-\n",
      "#449\tNEW    cov: 354 ft: 399 corp: 15/42b lim: 4 exec/s: 0 rss: 770Mb L: 2/4 MS: 1 CopyPart-\n",
      "#458\tNEW    cov: 373 ft: 443 corp: 16/43b lim: 4 exec/s: 0 rss: 770Mb L: 1/4 MS: 4 CrossOver-CrossOver-ChangeByte-CopyPart-\n",
      "#467\tNEW    cov: 373 ft: 449 corp: 17/46b lim: 4 exec/s: 0 rss: 770Mb L: 3/4 MS: 4 CrossOver-EraseBytes-ShuffleBytes-InsertByte-\n",
      "#468\tNEW    cov: 373 ft: 451 corp: 18/50b lim: 4 exec/s: 0 rss: 770Mb L: 4/4 MS: 1 CopyPart-\n",
      "#498\tNEW    cov: 374 ft: 452 corp: 19/53b lim: 4 exec/s: 0 rss: 770Mb L: 3/4 MS: 5 ChangeByte-InsertByte-ChangeByte-ShuffleBytes-ChangeBit-\n",
      "#500\tREDUCE cov: 374 ft: 452 corp: 19/52b lim: 4 exec/s: 0 rss: 770Mb L: 3/4 MS: 2 ChangeBit-EraseBytes-\n",
      "#509\tNEW    cov: 385 ft: 514 corp: 20/54b lim: 4 exec/s: 0 rss: 770Mb L: 2/4 MS: 4 ShuffleBytes-CopyPart-InsertByte-CrossOver-\n",
      "#513\tNEW    cov: 387 ft: 516 corp: 21/57b lim: 4 exec/s: 0 rss: 770Mb L: 3/4 MS: 4 ShuffleBytes-CopyPart-EraseBytes-InsertByte-\n",
      "#748\tNEW    cov: 387 ft: 517 corp: 22/63b lim: 6 exec/s: 0 rss: 770Mb L: 6/6 MS: 5 CopyPart-ChangeBit-ChangeByte-ChangeBit-InsertByte-\n",
      "#814\tNEW    cov: 387 ft: 519 corp: 23/68b lim: 6 exec/s: 0 rss: 770Mb L: 5/6 MS: 1 CrossOver-\n",
      "#909\tREDUCE cov: 387 ft: 520 corp: 24/73b lim: 6 exec/s: 0 rss: 770Mb L: 5/6 MS: 5 CrossOver-EraseBytes-ShuffleBytes-ChangeByte-CrossOver-\n",
      "#933\tNEW    cov: 394 ft: 529 corp: 25/79b lim: 6 exec/s: 0 rss: 770Mb L: 6/6 MS: 4 ChangeBit-CopyPart-ShuffleBytes-ShuffleBytes-\n",
      "#1021\tNEW    cov: 394 ft: 530 corp: 26/83b lim: 6 exec/s: 0 rss: 770Mb L: 4/6 MS: 3 ChangeBinInt-PersAutoDict-CopyPart- DE: \"\\000\\000\"-\n",
      "#1144\tNEW    cov: 394 ft: 533 corp: 27/89b lim: 6 exec/s: 0 rss: 770Mb L: 6/6 MS: 3 InsertByte-InsertByte-ChangeBinInt-\n",
      "#1263\tNEW    cov: 394 ft: 534 corp: 28/95b lim: 6 exec/s: 0 rss: 770Mb L: 6/6 MS: 4 CopyPart-ChangeBinInt-ChangeBit-ChangeBit-\n",
      "#1287\tNEW    cov: 394 ft: 536 corp: 29/101b lim: 6 exec/s: 0 rss: 770Mb L: 6/6 MS: 4 CrossOver-CrossOver-ChangeBit-InsertByte-\n",
      "#1328\tNEW    cov: 400 ft: 544 corp: 30/107b lim: 6 exec/s: 0 rss: 770Mb L: 6/6 MS: 1 ChangeBinInt-\n",
      "#1475\tNEW    cov: 401 ft: 545 corp: 31/113b lim: 6 exec/s: 0 rss: 770Mb L: 6/6 MS: 2 ChangeBit-CopyPart-\n",
      "#1506\tNEW    cov: 401 ft: 546 corp: 32/119b lim: 6 exec/s: 0 rss: 770Mb L: 6/6 MS: 1 CopyPart-\n",
      "#1665\tNEW    cov: 403 ft: 548 corp: 33/125b lim: 6 exec/s: 0 rss: 770Mb L: 6/6 MS: 4 ChangeBit-ChangeBinInt-CrossOver-ChangeByte-\n",
      "#1847\tREDUCE cov: 403 ft: 548 corp: 33/124b lim: 6 exec/s: 0 rss: 770Mb L: 2/6 MS: 2 ChangeByte-EraseBytes-\n",
      "#1859\tNEW    cov: 403 ft: 549 corp: 34/130b lim: 6 exec/s: 0 rss: 770Mb L: 6/6 MS: 2 InsertByte-CrossOver-\n",
      "#1861\tNEW    cov: 403 ft: 551 corp: 35/136b lim: 6 exec/s: 0 rss: 770Mb L: 6/6 MS: 2 CrossOver-ChangeByte-\n",
      "#1960\tREDUCE cov: 403 ft: 551 corp: 35/135b lim: 6 exec/s: 0 rss: 770Mb L: 3/6 MS: 4 CopyPart-ShuffleBytes-ChangeByte-EraseBytes-\n",
      "#1970\tNEW    cov: 403 ft: 559 corp: 36/138b lim: 6 exec/s: 0 rss: 770Mb L: 3/6 MS: 5 ChangeByte-CopyPart-ChangeBit-ChangeByte-EraseBytes-\n",
      "#1981\tNEW    cov: 403 ft: 560 corp: 37/144b lim: 6 exec/s: 0 rss: 770Mb L: 6/6 MS: 1 CopyPart-\n",
      "#2027\tNEW    cov: 408 ft: 565 corp: 38/150b lim: 6 exec/s: 0 rss: 770Mb L: 6/6 MS: 1 ChangeByte-\n",
      "#2044\tNEW    cov: 411 ft: 568 corp: 39/156b lim: 6 exec/s: 0 rss: 770Mb L: 6/6 MS: 2 CrossOver-ChangeByte-\n"
     ]
    },
    {
     "name": "stdout",
     "output_type": "stream",
     "text": [
      "\n",
      " === Uncaught Python exception: ===\n",
      "MismatchedTags: expected </< ('<xmlfile />' line 1 column 2) />>, got </END_OF_FILE> line: 4 col: 0, began line: 1 col: 2\n",
      "Traceback (most recent call last):\n",
      "  File \"/tmp/ipykernel_1783632/3734284493.py\", line 13, in TestOneInput\n",
      "    microdom.parseString(original)\n",
      "  File \"/home/x/miniconda3/envs/tf/lib/python3.9/site-packages/twisted/web/microdom.py\", line 1157, in parseString\n",
      "    return parse(BytesIO(st.encode(\"UTF-16\")), *args, **kw)\n",
      "  File \"/home/x/miniconda3/envs/tf/lib/python3.9/site-packages/twisted/web/microdom.py\", line 1131, in parse\n",
      "    mdp.connectionLost(None)\n",
      "  File \"/home/x/miniconda3/envs/tf/lib/python3.9/site-packages/twisted/web/microdom.py\", line 1106, in connectionLost\n",
      "    raise MismatchedTags(\n",
      "MismatchedTags: expected </< ('<xmlfile />' line 1 column 2) />>, got </END_OF_FILE> line: 4 col: 0, began line: 1 col: 2"
     ]
    },
    {
     "ename": "SystemExit",
     "evalue": "-1",
     "output_type": "error",
     "traceback": [
      "An exception has occurred, use %tb to see the full traceback.\n",
      "\u001b[0;31mSystemExit\u001b[0m\u001b[0;31m:\u001b[0m -1\n"
     ]
    },
    {
     "name": "stdout",
     "output_type": "stream",
     "text": [
      "\n",
      "\n"
     ]
    },
    {
     "name": "stderr",
     "output_type": "stream",
     "text": [
      "/home/x/.local/lib/python3.9/site-packages/IPython/core/interactiveshell.py:3468: UserWarning: To exit: use 'exit', 'quit', or Ctrl-D.\n",
      "  warn(\"To exit: use 'exit', 'quit', or Ctrl-D.\", stacklevel=1)\n"
     ]
    }
   ],
   "source": [
    "# function signature is twisted.web.microdom.parseString(string)\n",
    "# https://docs.twisted.org/en/stable/api/twisted.web.microdom.html#parseString\n",
    "# fuzz test for twisted.web.microdom.parseString():\n",
    "import sys\n",
    "import atheris\n",
    "from twisted.web import microdom\n",
    "\n",
    "def TestOneInput(data):\n",
    "    fdp = atheris.FuzzedDataProvider(data)\n",
    "    #original = fdp.ConsumeUnicode(sys.maxsize)\n",
    "    original = fdp.ConsumeUnicodeNoSurrogates(sys.maxsize)\n",
    "    try:\n",
    "        microdom.parseString(original)\n",
    "    except microdom.ParseError:\n",
    "        None\n",
    "    return\n",
    "\n",
    "def main():\n",
    "    atheris.Setup(sys.argv, TestOneInput)\n",
    "    atheris.Fuzz()\n",
    "\n",
    "if __name__ == \"__main__\":\n",
    "    atheris.instrument_all()\n",
    "    main()"
   ]
  },
  {
   "cell_type": "code",
   "execution_count": 2,
   "metadata": {},
   "outputs": [
    {
     "name": "stderr",
     "output_type": "stream",
     "text": [
      "INFO: Instrumenting 21794 functions...\n"
     ]
    },
    {
     "ename": "",
     "evalue": "",
     "output_type": "error",
     "traceback": [
      "\u001b[1;31mCanceled future for execute_request message before replies were done"
     ]
    },
    {
     "ename": "",
     "evalue": "",
     "output_type": "error",
     "traceback": [
      "\u001b[1;31mThe Kernel crashed while executing code in the the current cell or a previous cell. Please review the code in the cell(s) to identify a possible cause of the failure. Click <a href='https://aka.ms/vscodeJupyterKernelCrash'>here</a> for more info. View Jupyter <a href='command:jupyter.viewOutput'>log</a> for further details."
     ]
    }
   ],
   "source": [
    "# function signature is twisted.web.microdom.parse(readable)\n",
    "# https://docs.twisted.org/en/stable/api/twisted.web.microdom.html#parse\n",
    "# fuzz test for twisted.web.microdom.parse():\n",
    "import sys\n",
    "import atheris\n",
    "from twisted.web import microdom\n",
    "\n",
    "def TestOneInput(data):\n",
    "    fdp = atheris.FuzzedDataProvider(data)\n",
    "    original = fdp.ConsumeUnicode(sys.maxsize)\n",
    "    try:\n",
    "        microdom.parse(original)\n",
    "    except microdom.ParseError:\n",
    "        None\n",
    "    return\n",
    "\n",
    "def main():\n",
    "    atheris.Setup(sys.argv, TestOneInput)\n",
    "    atheris.Fuzz()\n",
    "\n",
    "if __name__ == \"__main__\":\n",
    "    atheris.instrument_all()\n",
    "    main()"
   ]
  },
  {
   "cell_type": "code",
   "execution_count": 1,
   "metadata": {},
   "outputs": [
    {
     "name": "stderr",
     "output_type": "stream",
     "text": [
      "INFO: Instrumenting 20449 functions...\n"
     ]
    },
    {
     "name": "stdout",
     "output_type": "stream",
     "text": [
      "INFO: Instrumentation complete.\n"
     ]
    },
    {
     "name": "stderr",
     "output_type": "stream",
     "text": [
      "INFO: Using built-in libfuzzer\n",
      "WARNING: Failed to find function \"__sanitizer_acquire_crash_state\".\n",
      "WARNING: Failed to find function \"__sanitizer_print_stack_trace\".\n",
      "WARNING: Failed to find function \"__sanitizer_set_death_callback\".\n",
      "INFO: libFuzzer ignores flags that start with '--'\n",
      "INFO: Running with entropic power schedule (0xFF, 100).\n",
      "INFO: Seed: 816151153\n",
      "INFO: -max_len is not provided; libFuzzer will not generate inputs larger than 4096 bytes\n"
     ]
    },
    {
     "ename": "SystemExit",
     "evalue": "-1",
     "output_type": "error",
     "traceback": [
      "An exception has occurred, use %tb to see the full traceback.\n",
      "\u001b[0;31mSystemExit\u001b[0m\u001b[0;31m:\u001b[0m -1\n"
     ]
    },
    {
     "name": "stdout",
     "output_type": "stream",
     "text": [
      "\n",
      " === Uncaught Python exception: ===\n",
      "AttributeError: module 'twisted.web.microdom' has no attribute 'parseFile'\n",
      "Traceback (most recent call last):\n",
      "  File \"/tmp/ipykernel_1785812/3177603722.py\", line 12, in TestOneInput\n",
      "    microdom.parseFile(original)\n",
      "AttributeError: module 'twisted.web.microdom' has no attribute 'parseFile'\n",
      "\n"
     ]
    },
    {
     "name": "stderr",
     "output_type": "stream",
     "text": [
      "/home/x/.local/lib/python3.9/site-packages/IPython/core/interactiveshell.py:3468: UserWarning: To exit: use 'exit', 'quit', or Ctrl-D.\n",
      "  warn(\"To exit: use 'exit', 'quit', or Ctrl-D.\", stacklevel=1)\n"
     ]
    }
   ],
   "source": [
    "# function signature is twisted.web.microdom.parseFile(file)\n",
    "# https://docs.twisted.org/en/stable/api/twisted.web.microdom.html#parseFile\n",
    "# fuzz test for twisted.web.microdom.parseFile():\n",
    "import sys\n",
    "import atheris\n",
    "from twisted.web import microdom\n",
    "\n",
    "def TestOneInput(data):\n",
    "    fdp = atheris.FuzzedDataProvider(data)\n",
    "    original = fdp.ConsumeUnicode(sys.maxsize)\n",
    "    try:\n",
    "        microdom.parseFile(original)\n",
    "    except microdom.ParseError:\n",
    "        None\n",
    "    return\n",
    "\n",
    "def main():\n",
    "    atheris.Setup(sys.argv, TestOneInput)\n",
    "    atheris.Fuzz()\n",
    "\n",
    "if __name__ == \"__main__\":\n",
    "    atheris.instrument_all()\n",
    "    main()"
   ]
  },
  {
   "cell_type": "code",
   "execution_count": 1,
   "metadata": {},
   "outputs": [
    {
     "name": "stderr",
     "output_type": "stream",
     "text": [
      "INFO: Instrumenting 20449 functions...\n"
     ]
    },
    {
     "name": "stdout",
     "output_type": "stream",
     "text": [
      "INFO: Instrumentation complete.\n"
     ]
    },
    {
     "name": "stderr",
     "output_type": "stream",
     "text": [
      "INFO: Using built-in libfuzzer\n",
      "WARNING: Failed to find function \"__sanitizer_acquire_crash_state\".\n",
      "WARNING: Failed to find function \"__sanitizer_print_stack_trace\".\n",
      "WARNING: Failed to find function \"__sanitizer_set_death_callback\".\n",
      "INFO: libFuzzer ignores flags that start with '--'\n",
      "INFO: Running with entropic power schedule (0xFF, 100).\n",
      "INFO: Seed: 4175782825\n",
      "INFO: -max_len is not provided; libFuzzer will not generate inputs larger than 4096 bytes\n",
      "INFO: A corpus is not provided, starting from an empty corpus\n",
      "#2\tINITED cov: 230 ft: 230 corp: 1/1b exec/s: 0 rss: 765Mb\n",
      "#7\tNEW    cov: 238 ft: 256 corp: 2/4b lim: 4 exec/s: 0 rss: 765Mb L: 3/3 MS: 5 ShuffleBytes-CopyPart-InsertByte-ShuffleBytes-InsertByte-\n",
      "#10\tNEW    cov: 238 ft: 263 corp: 3/6b lim: 4 exec/s: 0 rss: 765Mb L: 2/3 MS: 3 EraseBytes-ChangeBinInt-ChangeBinInt-\n",
      "#28\tNEW    cov: 240 ft: 266 corp: 4/8b lim: 4 exec/s: 0 rss: 765Mb L: 2/3 MS: 3 ShuffleBytes-CopyPart-ChangeByte-\n",
      "#40\tNEW    cov: 240 ft: 268 corp: 5/11b lim: 4 exec/s: 0 rss: 765Mb L: 3/3 MS: 2 ChangeBit-InsertByte-\n",
      "#346\tREDUCE cov: 240 ft: 268 corp: 5/10b lim: 6 exec/s: 0 rss: 765Mb L: 2/3 MS: 1 EraseBytes-\n",
      "#452\tREDUCE cov: 335 ft: 368 corp: 6/13b lim: 6 exec/s: 0 rss: 765Mb L: 3/3 MS: 1 InsertByte-\n",
      "#464\tNEW    cov: 354 ft: 414 corp: 7/14b lim: 6 exec/s: 0 rss: 765Mb L: 1/3 MS: 2 CrossOver-ShuffleBytes-\n",
      "#479\tNEW    cov: 355 ft: 421 corp: 8/20b lim: 6 exec/s: 0 rss: 765Mb L: 6/6 MS: 5 InsertRepeatedBytes-CopyPart-ShuffleBytes-ChangeBit-ChangeBinInt-\n",
      "#504\tREDUCE cov: 355 ft: 428 corp: 9/24b lim: 6 exec/s: 0 rss: 765Mb L: 4/6 MS: 5 ChangeByte-CMP-EraseBytes-ChangeBinInt-ChangeByte- DE: \"got\"-\n",
      "#542\tNEW    cov: 366 ft: 511 corp: 10/30b lim: 6 exec/s: 0 rss: 765Mb L: 6/6 MS: 3 ChangeBinInt-ChangeBit-ShuffleBytes-\n",
      "#679\tNEW    cov: 366 ft: 516 corp: 11/36b lim: 6 exec/s: 0 rss: 765Mb L: 6/6 MS: 2 ShuffleBytes-InsertRepeatedBytes-\n",
      "#687\tNEW    cov: 366 ft: 519 corp: 12/41b lim: 6 exec/s: 0 rss: 765Mb L: 5/6 MS: 3 ShuffleBytes-ChangeByte-CopyPart-\n",
      "#723\tNEW    cov: 366 ft: 524 corp: 13/47b lim: 6 exec/s: 0 rss: 765Mb L: 6/6 MS: 1 ShuffleBytes-\n",
      "#980\tNEW    cov: 366 ft: 525 corp: 14/55b lim: 8 exec/s: 0 rss: 765Mb L: 8/8 MS: 2 CopyPart-CopyPart-\n",
      "#1081\tNEW    cov: 366 ft: 526 corp: 15/60b lim: 8 exec/s: 0 rss: 765Mb L: 5/8 MS: 1 CopyPart-\n",
      "#1108\tNEW    cov: 366 ft: 527 corp: 16/63b lim: 8 exec/s: 0 rss: 765Mb L: 3/8 MS: 2 CrossOver-EraseBytes-\n",
      "#1119\tNEW    cov: 366 ft: 534 corp: 17/66b lim: 8 exec/s: 0 rss: 765Mb L: 3/8 MS: 1 ChangeByte-\n",
      "#1150\tNEW    cov: 366 ft: 593 corp: 18/68b lim: 8 exec/s: 0 rss: 765Mb L: 2/8 MS: 1 EraseBytes-\n",
      "#1227\tREDUCE cov: 366 ft: 593 corp: 18/67b lim: 8 exec/s: 0 rss: 765Mb L: 4/8 MS: 2 EraseBytes-CrossOver-\n",
      "#1750\tNEW    cov: 366 ft: 595 corp: 19/69b lim: 11 exec/s: 0 rss: 765Mb L: 2/8 MS: 3 ChangeBinInt-ChangeBinInt-ChangeBit-\n",
      "#1799\tNEW    cov: 366 ft: 597 corp: 20/78b lim: 11 exec/s: 0 rss: 765Mb L: 9/9 MS: 4 ChangeByte-ChangeByte-CrossOver-CrossOver-\n",
      "#1845\tNEW    cov: 366 ft: 599 corp: 21/88b lim: 11 exec/s: 0 rss: 765Mb L: 10/10 MS: 1 CopyPart-\n",
      "#1926\tNEW    cov: 379 ft: 612 corp: 22/96b lim: 11 exec/s: 0 rss: 765Mb L: 8/10 MS: 1 InsertRepeatedBytes-\n",
      "#1952\tNEW    cov: 379 ft: 613 corp: 23/106b lim: 11 exec/s: 0 rss: 765Mb L: 10/10 MS: 1 CopyPart-\n",
      "#1965\tREDUCE cov: 379 ft: 613 corp: 23/103b lim: 11 exec/s: 0 rss: 765Mb L: 5/10 MS: 3 InsertByte-CMP-EraseBytes- DE: \"gotT\"-\n",
      "#2044\tREDUCE cov: 381 ft: 616 corp: 24/109b lim: 11 exec/s: 0 rss: 765Mb L: 6/10 MS: 4 InsertByte-ChangeByte-ChangeByte-ChangeByte-\n",
      "#2291\tREDUCE cov: 383 ft: 618 corp: 25/114b lim: 11 exec/s: 0 rss: 765Mb L: 5/10 MS: 2 ChangeByte-CrossOver-\n",
      "#2357\tNEW    cov: 383 ft: 621 corp: 26/123b lim: 11 exec/s: 0 rss: 765Mb L: 9/10 MS: 1 InsertRepeatedBytes-\n",
      "#2415\tNEW    cov: 383 ft: 623 corp: 27/134b lim: 11 exec/s: 0 rss: 765Mb L: 11/11 MS: 3 InsertByte-ChangeASCIIInt-CopyPart-\n",
      "#2772\tNEW    cov: 383 ft: 624 corp: 28/137b lim: 14 exec/s: 2772 rss: 765Mb L: 3/11 MS: 2 ShuffleBytes-EraseBytes-\n",
      "#2948\tNEW    cov: 383 ft: 627 corp: 29/144b lim: 14 exec/s: 2948 rss: 765Mb L: 7/11 MS: 1 InsertByte-\n",
      "#2961\tNEW    cov: 383 ft: 633 corp: 30/157b lim: 14 exec/s: 2961 rss: 765Mb L: 13/13 MS: 3 InsertRepeatedBytes-ShuffleBytes-ChangeBit-\n",
      "#3015\tNEW    cov: 392 ft: 645 corp: 31/169b lim: 14 exec/s: 3015 rss: 765Mb L: 12/13 MS: 4 ChangeBit-CrossOver-InsertByte-ChangeBinInt-\n",
      "#3241\tREDUCE cov: 392 ft: 645 corp: 31/167b lim: 14 exec/s: 3241 rss: 765Mb L: 8/13 MS: 1 CrossOver-\n",
      "#3862\tREDUCE cov: 393 ft: 650 corp: 32/177b lim: 17 exec/s: 3862 rss: 765Mb L: 10/13 MS: 1 CrossOver-\n",
      "#3878\tNEW    cov: 393 ft: 654 corp: 33/193b lim: 17 exec/s: 3878 rss: 765Mb L: 16/16 MS: 1 CrossOver-\n",
      "#3895\tREDUCE cov: 393 ft: 659 corp: 34/210b lim: 17 exec/s: 3895 rss: 765Mb L: 17/17 MS: 2 CopyPart-CopyPart-\n",
      "#3926\tNEW    cov: 393 ft: 662 corp: 35/226b lim: 17 exec/s: 3926 rss: 765Mb L: 16/17 MS: 1 ChangeBinInt-\n",
      "#3940\tNEW    cov: 395 ft: 664 corp: 36/243b lim: 17 exec/s: 3940 rss: 765Mb L: 17/17 MS: 4 ChangeByte-ChangeBinInt-CopyPart-InsertRepeatedBytes-\n",
      "#3971\tREDUCE cov: 395 ft: 664 corp: 36/241b lim: 17 exec/s: 3971 rss: 765Mb L: 7/17 MS: 1 EraseBytes-\n",
      "#4024\tREDUCE cov: 395 ft: 664 corp: 36/236b lim: 17 exec/s: 4024 rss: 765Mb L: 12/17 MS: 3 CrossOver-ShuffleBytes-EraseBytes-\n",
      "#4068\tREDUCE cov: 406 ft: 677 corp: 37/248b lim: 17 exec/s: 4068 rss: 765Mb L: 12/17 MS: 4 ShuffleBytes-InsertRepeatedBytes-PersAutoDict-ShuffleBytes- DE: \"got\"-\n",
      "#4129\tNEW    cov: 406 ft: 679 corp: 38/262b lim: 17 exec/s: 4129 rss: 765Mb L: 14/17 MS: 1 PersAutoDict- DE: \"gotT\"-\n",
      "#4165\tNEW    cov: 413 ft: 692 corp: 39/279b lim: 17 exec/s: 4165 rss: 765Mb L: 17/17 MS: 1 InsertByte-\n",
      "#4211\tNEW    cov: 413 ft: 694 corp: 40/293b lim: 17 exec/s: 4211 rss: 765Mb L: 14/17 MS: 1 ChangeBinInt-\n",
      "#4337\tREDUCE cov: 413 ft: 694 corp: 40/292b lim: 17 exec/s: 4337 rss: 765Mb L: 15/17 MS: 1 EraseBytes-\n",
      "#4368\tREDUCE cov: 413 ft: 694 corp: 40/290b lim: 17 exec/s: 4368 rss: 765Mb L: 10/17 MS: 1 EraseBytes-\n",
      "#4430\tNEW    cov: 413 ft: 698 corp: 41/307b lim: 17 exec/s: 4430 rss: 765Mb L: 17/17 MS: 2 ShuffleBytes-CrossOver-\n",
      "#4463\tREDUCE cov: 413 ft: 698 corp: 41/305b lim: 17 exec/s: 4463 rss: 765Mb L: 10/17 MS: 3 ChangeByte-PersAutoDict-EraseBytes- DE: \"gotT\"-\n",
      "#4478\tNEW    cov: 413 ft: 699 corp: 42/322b lim: 17 exec/s: 4478 rss: 765Mb L: 17/17 MS: 5 ChangeBit-InsertRepeatedBytes-CopyPart-ShuffleBytes-CopyPart-\n",
      "#4509\tREDUCE cov: 413 ft: 700 corp: 43/335b lim: 17 exec/s: 4509 rss: 765Mb L: 13/17 MS: 1 CMP- DE: \"end_sp\"-\n",
      "#4523\tREDUCE cov: 413 ft: 703 corp: 44/348b lim: 17 exec/s: 4523 rss: 765Mb L: 13/17 MS: 4 PersAutoDict-PersAutoDict-ChangeBit-ShuffleBytes- DE: \"end_sp\"-\"got\"-\n",
      "#4619\tNEW    cov: 413 ft: 705 corp: 45/365b lim: 17 exec/s: 4619 rss: 765Mb L: 17/17 MS: 1 CMP- DE: \"end_\"-\n",
      "#4625\tNEW    cov: 413 ft: 708 corp: 46/382b lim: 17 exec/s: 4625 rss: 765Mb L: 17/17 MS: 1 CopyPart-\n",
      "#4648\tNEW    cov: 413 ft: 711 corp: 47/399b lim: 17 exec/s: 4648 rss: 765Mb L: 17/17 MS: 3 ChangeBit-CopyPart-CopyPart-\n",
      "#4678\tREDUCE cov: 413 ft: 711 corp: 47/397b lim: 17 exec/s: 4678 rss: 765Mb L: 14/17 MS: 5 CopyPart-ChangeBinInt-ChangeASCIIInt-ChangeBinInt-EraseBytes-\n",
      "#4802\tREDUCE cov: 413 ft: 711 corp: 47/396b lim: 17 exec/s: 4802 rss: 765Mb L: 14/17 MS: 4 CopyPart-ChangeBinInt-ChangeBinInt-EraseBytes-\n",
      "#4916\tREDUCE cov: 413 ft: 711 corp: 47/395b lim: 17 exec/s: 4916 rss: 765Mb L: 12/17 MS: 4 InsertRepeatedBytes-ShuffleBytes-ChangeASCIIInt-EraseBytes-\n",
      "#5184\tREDUCE cov: 413 ft: 711 corp: 47/391b lim: 17 exec/s: 5184 rss: 765Mb L: 7/17 MS: 3 ChangeASCIIInt-CMP-EraseBytes- DE: \"\\377\\377\"-\n",
      "#5190\tREDUCE cov: 413 ft: 711 corp: 47/390b lim: 17 exec/s: 5190 rss: 765Mb L: 13/17 MS: 1 EraseBytes-\n",
      "#5217\tREDUCE cov: 413 ft: 713 corp: 48/406b lim: 17 exec/s: 5217 rss: 765Mb L: 16/17 MS: 2 ShuffleBytes-CrossOver-\n",
      "#5275\tREDUCE cov: 419 ft: 719 corp: 49/416b lim: 17 exec/s: 5275 rss: 765Mb L: 10/17 MS: 3 ChangeASCIIInt-ChangeBit-ChangeBit-\n",
      "#5309\tNEW    cov: 419 ft: 720 corp: 50/430b lim: 17 exec/s: 5309 rss: 765Mb L: 14/17 MS: 4 ChangeBit-CrossOver-CopyPart-ShuffleBytes-\n",
      "#5395\tREDUCE cov: 419 ft: 720 corp: 50/429b lim: 17 exec/s: 2697 rss: 765Mb L: 7/17 MS: 1 EraseBytes-\n",
      "#5457\tREDUCE cov: 419 ft: 720 corp: 50/427b lim: 17 exec/s: 2728 rss: 765Mb L: 8/17 MS: 2 ChangeBit-EraseBytes-\n",
      "#5469\tNEW    cov: 424 ft: 726 corp: 51/435b lim: 17 exec/s: 2734 rss: 765Mb L: 8/17 MS: 2 CrossOver-ChangeBinInt-\n",
      "#5480\tNEW    cov: 424 ft: 728 corp: 52/440b lim: 17 exec/s: 2740 rss: 765Mb L: 5/17 MS: 1 ChangeByte-\n",
      "#5611\tNEW    cov: 424 ft: 730 corp: 53/455b lim: 17 exec/s: 2805 rss: 765Mb L: 15/17 MS: 1 InsertRepeatedBytes-\n",
      "#5653\tREDUCE cov: 425 ft: 731 corp: 54/463b lim: 17 exec/s: 2826 rss: 765Mb L: 8/17 MS: 2 InsertByte-ChangeBinInt-\n",
      "#5692\tNEW    cov: 430 ft: 736 corp: 55/475b lim: 17 exec/s: 2846 rss: 765Mb L: 12/17 MS: 4 EraseBytes-InsertByte-ChangeBinInt-ChangeByte-\n",
      "#5769\tREDUCE cov: 430 ft: 736 corp: 55/471b lim: 17 exec/s: 2884 rss: 765Mb L: 10/17 MS: 2 CopyPart-EraseBytes-\n",
      "#5781\tREDUCE cov: 430 ft: 736 corp: 55/470b lim: 17 exec/s: 2890 rss: 765Mb L: 6/17 MS: 2 ChangeBit-EraseBytes-\n",
      "#5783\tNEW    cov: 430 ft: 747 corp: 56/485b lim: 17 exec/s: 2891 rss: 765Mb L: 15/17 MS: 2 InsertByte-CMP- DE: \"\\005\\000\\000\\000\\000\\000\\000\\000\"-\n",
      "#5796\tREDUCE cov: 430 ft: 747 corp: 56/484b lim: 17 exec/s: 2898 rss: 765Mb L: 3/17 MS: 3 CrossOver-CopyPart-EraseBytes-\n",
      "#5797\tNEW    cov: 430 ft: 748 corp: 57/495b lim: 17 exec/s: 2898 rss: 765Mb L: 11/17 MS: 1 EraseBytes-\n",
      "#5834\tNEW    cov: 430 ft: 749 corp: 58/509b lim: 17 exec/s: 2917 rss: 765Mb L: 14/17 MS: 2 ChangeBit-InsertByte-\n",
      "#6141\tREDUCE cov: 430 ft: 750 corp: 59/523b lim: 17 exec/s: 3070 rss: 765Mb L: 14/17 MS: 2 ChangeBinInt-PersAutoDict- DE: \"end_sp\"-\n",
      "#6478\tNEW    cov: 430 ft: 751 corp: 60/533b lim: 17 exec/s: 3239 rss: 765Mb L: 10/17 MS: 2 ChangeBit-CopyPart-\n",
      "#6723\tREDUCE cov: 430 ft: 751 corp: 60/532b lim: 17 exec/s: 3361 rss: 765Mb L: 4/17 MS: 5 ChangeByte-CMP-InsertByte-ChangeByte-EraseBytes- DE: \"\\001\\000\"-\n",
      "#7064\tREDUCE cov: 430 ft: 751 corp: 60/529b lim: 17 exec/s: 3532 rss: 765Mb L: 9/17 MS: 1 EraseBytes-\n",
      "#7076\tREDUCE cov: 430 ft: 752 corp: 61/545b lim: 17 exec/s: 3538 rss: 765Mb L: 16/17 MS: 2 CopyPart-ChangeBit-\n",
      "#7104\tREDUCE cov: 430 ft: 752 corp: 61/541b lim: 17 exec/s: 3552 rss: 765Mb L: 13/17 MS: 3 CopyPart-ChangeByte-EraseBytes-\n",
      "#7170\tREDUCE cov: 430 ft: 752 corp: 61/540b lim: 17 exec/s: 3585 rss: 765Mb L: 9/17 MS: 1 EraseBytes-\n",
      "#7206\tREDUCE cov: 433 ft: 755 corp: 62/552b lim: 17 exec/s: 3603 rss: 765Mb L: 12/17 MS: 1 CMP- DE: \"!--\"-\n",
      "#7399\tNEW    cov: 435 ft: 757 corp: 63/563b lim: 17 exec/s: 3699 rss: 765Mb L: 11/17 MS: 3 CrossOver-CrossOver-ChangeBit-\n",
      "#7435\tREDUCE cov: 435 ft: 757 corp: 63/561b lim: 17 exec/s: 3717 rss: 765Mb L: 4/17 MS: 1 EraseBytes-\n",
      "#7466\tREDUCE cov: 435 ft: 757 corp: 63/560b lim: 17 exec/s: 3733 rss: 765Mb L: 5/17 MS: 1 EraseBytes-\n",
      "#7527\tNEW    cov: 436 ft: 761 corp: 64/572b lim: 17 exec/s: 3763 rss: 765Mb L: 12/17 MS: 1 ShuffleBytes-\n",
      "#7598\tREDUCE cov: 436 ft: 761 corp: 64/570b lim: 17 exec/s: 3799 rss: 765Mb L: 6/17 MS: 1 EraseBytes-\n",
      "#7865\tNEW    cov: 440 ft: 765 corp: 65/585b lim: 17 exec/s: 3932 rss: 765Mb L: 15/17 MS: 2 ChangeBit-CMP- DE: \"!--\"-\n",
      "#7951\tREDUCE cov: 440 ft: 765 corp: 65/584b lim: 17 exec/s: 3975 rss: 765Mb L: 10/17 MS: 1 EraseBytes-\n",
      "#8013\tREDUCE cov: 440 ft: 765 corp: 65/582b lim: 17 exec/s: 4006 rss: 765Mb L: 10/17 MS: 2 ChangeBit-EraseBytes-\n",
      "#8043\tREDUCE cov: 440 ft: 765 corp: 65/581b lim: 17 exec/s: 4021 rss: 765Mb L: 9/17 MS: 5 CMP-ChangeBit-ChangeBit-ChangeBinInt-EraseBytes- DE: \"end_\"-\n",
      "#8156\tREDUCE cov: 440 ft: 765 corp: 65/579b lim: 17 exec/s: 4078 rss: 765Mb L: 7/17 MS: 3 ChangeByte-ChangeBit-EraseBytes-\n",
      "#8158\tREDUCE cov: 440 ft: 767 corp: 66/586b lim: 17 exec/s: 4079 rss: 765Mb L: 7/17 MS: 2 EraseBytes-CMP- DE: \"!--\"-\n",
      "#8185\tNEW    cov: 440 ft: 768 corp: 67/603b lim: 17 exec/s: 4092 rss: 765Mb L: 17/17 MS: 2 ChangeBit-CopyPart-\n",
      "#8192\tpulse  cov: 440 ft: 768 corp: 67/603b lim: 17 exec/s: 2730 rss: 765Mb\n",
      "#8271\tREDUCE cov: 440 ft: 768 corp: 67/602b lim: 17 exec/s: 2757 rss: 765Mb L: 6/17 MS: 1 EraseBytes-\n",
      "#8538\tREDUCE cov: 440 ft: 768 corp: 67/600b lim: 17 exec/s: 2846 rss: 765Mb L: 6/17 MS: 2 ShuffleBytes-EraseBytes-\n",
      "#8586\tREDUCE cov: 440 ft: 768 corp: 67/597b lim: 17 exec/s: 2862 rss: 765Mb L: 14/17 MS: 3 ShuffleBytes-ChangeBit-EraseBytes-\n",
      "#8687\tREDUCE cov: 440 ft: 768 corp: 67/596b lim: 17 exec/s: 2895 rss: 765Mb L: 14/17 MS: 1 CrossOver-\n",
      "#8711\tREDUCE cov: 440 ft: 768 corp: 67/588b lim: 17 exec/s: 2903 rss: 765Mb L: 9/17 MS: 4 ChangeBit-CrossOver-CrossOver-CrossOver-\n",
      "#8813\tNEW    cov: 440 ft: 769 corp: 68/604b lim: 17 exec/s: 2937 rss: 765Mb L: 16/17 MS: 2 CopyPart-CopyPart-\n",
      "#8869\tNEW    cov: 440 ft: 771 corp: 69/616b lim: 17 exec/s: 2956 rss: 765Mb L: 12/17 MS: 1 ChangeBinInt-\n",
      "#9116\tNEW    cov: 440 ft: 773 corp: 70/626b lim: 17 exec/s: 3038 rss: 765Mb L: 10/17 MS: 2 CrossOver-CrossOver-\n"
     ]
    },
    {
     "name": "stdout",
     "output_type": "stream",
     "text": [
      "\n",
      " === Uncaught Python exception: ===\n",
      "MismatchedTags: expected </<:UN ('<xmlfile />' line 1 column 6) >...</:UN>>, got </END_OF_FILE> line: 3 col: 5, began line: 1 col: 6\n",
      "Traceback (most recent call last):\n",
      "  File \"/tmp/ipykernel_1789193/2351479959.py\", line 14, in TestOneInput\n",
      "    microdom.parseXMLString(original).toprettyxml()\n",
      "  File \"/home/x/miniconda3/envs/tf/lib/python3.9/site-packages/twisted/web/microdom.py\", line 1172, in parseXMLString\n",
      "    return parseString(st, caseInsensitive=0, preserveCase=1)\n",
      "  File \"/home/x/miniconda3/envs/tf/lib/python3.9/site-packages/twisted/web/microdom.py\", line 1157, in parseString\n",
      "    return parse(BytesIO(st.encode(\"UTF-16\")), *args, **kw)\n",
      "  File \"/home/x/miniconda3/envs/tf/lib/python3.9/site-packages/twisted/web/microdom.py\", line 1131, in parse\n",
      "    mdp.connectionLost(None)\n",
      "  File \"/home/x/miniconda3/envs/tf/lib/python3.9/site-packages/twisted/web/microdom.py\", line 1106, in connectionLost\n",
      "    raise MismatchedTags(\n",
      "MismatchedTags: expected </<:UN ('<xmlfile />' line 1 column 6) >...</:UN>>, got </END_OF_FILE> line: 3 col: 5, began line: 1 col: 6\n",
      "\n"
     ]
    },
    {
     "name": "stderr",
     "output_type": "stream",
     "text": [
      "#9117\tREDUCE cov: 440 ft: 773 corp: 70/625b lim: 17 exec/s: 3039 rss: 765Mb L: 13/17 MS: 1 CrossOver-\n",
      "#9164\tNEW    cov: 440 ft: 775 corp: 71/633b lim: 17 exec/s: 3054 rss: 765Mb L: 8/17 MS: 2 ChangeBit-InsertByte-\n",
      "#9180\tNEW    cov: 440 ft: 777 corp: 72/643b lim: 17 exec/s: 3060 rss: 765Mb L: 10/17 MS: 1 CrossOver-\n"
     ]
    },
    {
     "ename": "SystemExit",
     "evalue": "-1",
     "output_type": "error",
     "traceback": [
      "An exception has occurred, use %tb to see the full traceback.\n",
      "\u001b[0;31mSystemExit\u001b[0m\u001b[0;31m:\u001b[0m -1\n"
     ]
    },
    {
     "name": "stderr",
     "output_type": "stream",
     "text": [
      "/home/x/.local/lib/python3.9/site-packages/IPython/core/interactiveshell.py:3468: UserWarning: To exit: use 'exit', 'quit', or Ctrl-D.\n",
      "  warn(\"To exit: use 'exit', 'quit', or Ctrl-D.\", stacklevel=1)\n"
     ]
    }
   ],
   "source": [
    "# Raising Temp to 1\n",
    "# function signature is twisted.web.microdom.parseXML(readable)\n",
    "# https://docs.twisted.org/en/stable/api/twisted.web.microdom.html#parseString\n",
    "# fuzz test for twisted.web.microdom.parseXML():\n",
    "import sys\n",
    "import atheris\n",
    "from twisted.web import microdom\n",
    "\n",
    "def TestOneInput(data):\n",
    "    fdp = atheris.FuzzedDataProvider(data)\n",
    "    original = fdp.ConsumeUnicodeNoSurrogates(sys.maxsize)\n",
    "\n",
    "    try:\n",
    "        microdom.parseXMLString(original).toprettyxml()\n",
    "        microdom._validateNodeType(\"root\", 0, \"document\")  # validate node type for root element of parsed xml doc \n",
    "    except (microdom.ParseError):\n",
    "        None   # ParseError indicates a valid input is received by the parseXML function\n",
    "\n",
    "    return\n",
    "\n",
    "def main():\n",
    "    atheris.Setup(sys.argv, TestOneInput)\n",
    "    atheris.Fuzz()\n",
    "\n",
    "if __name__ == \"__main__\":  # pragma: no cover\n",
    "    atheris.instrument_all()   # instrument all imports used in program  to detect any exceptions that may be thrown while running the fuzz tests  \n",
    "    main()"
   ]
  }
 ],
 "metadata": {
  "kernelspec": {
   "display_name": "tf",
   "language": "python",
   "name": "python3"
  },
  "language_info": {
   "codemirror_mode": {
    "name": "ipython",
    "version": 3
   },
   "file_extension": ".py",
   "mimetype": "text/x-python",
   "name": "python",
   "nbconvert_exporter": "python",
   "pygments_lexer": "ipython3",
   "version": "3.9.16"
  },
  "orig_nbformat": 4
 },
 "nbformat": 4,
 "nbformat_minor": 2
}
