{
 "cells": [
  {
   "attachments": {},
   "cell_type": "markdown",
   "metadata": {},
   "source": [
    "This is the existing [OSS Keras fuzzer](https://github.com/google/oss-fuzz/blob/master/projects/keras/fuzz_serialization.py):"
   ]
  },
  {
   "cell_type": "code",
   "execution_count": 1,
   "metadata": {},
   "outputs": [
    {
     "name": "stderr",
     "output_type": "stream",
     "text": [
      "2023-03-17 10:39:56.015728: I tensorflow/core/platform/cpu_feature_guard.cc:193] This TensorFlow binary is optimized with oneAPI Deep Neural Network Library (oneDNN) to use the following CPU instructions in performance-critical operations:  AVX2 FMA\n",
      "To enable them in other operations, rebuild TensorFlow with the appropriate compiler flags.\n",
      "INFO: Using built-in libfuzzer\n",
      "WARNING: Failed to find function \"__sanitizer_acquire_crash_state\".\n",
      "WARNING: Failed to find function \"__sanitizer_print_stack_trace\".\n",
      "WARNING: Failed to find function \"__sanitizer_set_death_callback\".\n",
      "INFO: libFuzzer ignores flags that start with '--'\n",
      "INFO: Running with entropic power schedule (0xFF, 100).\n",
      "INFO: Seed: 2330022754\n",
      "INFO: -max_len is not provided; libFuzzer will not generate inputs larger than 4096 bytes\n",
      "INFO: A corpus is not provided, starting from an empty corpus\n",
      "#2\tINITED cov: 1 ft: 1 corp: 1/1b exec/s: 0 rss: 750Mb\n",
      "#673\tNEW    cov: 2 ft: 2 corp: 2/9b lim: 8 exec/s: 0 rss: 750Mb L: 8/8 MS: 1 InsertRepeatedBytes-\n",
      "#678\tREDUCE cov: 2 ft: 2 corp: 2/3b lim: 8 exec/s: 0 rss: 750Mb L: 2/2 MS: 5 ChangeByte-ChangeBinInt-CrossOver-ShuffleBytes-InsertByte-\n",
      "#1048576\tpulse  cov: 2 ft: 2 corp: 2/3b lim: 4096 exec/s: 349525 rss: 750Mb\n",
      "#2097152\tpulse  cov: 2 ft: 2 corp: 2/3b lim: 4096 exec/s: 299593 rss: 750Mb\n"
     ]
    },
    {
     "name": "stdout",
     "output_type": "stream",
     "text": [
      "\n",
      " === Uncaught Python exception: ===\n",
      "ValueError: Improper config format for {}. Expecting python dict contains `class_name` and `config` as keys\n",
      "Traceback (most recent call last):\n",
      "  File \"/tmp/ipykernel_1682276/795878027.py\", line 18, in TestOneInput\n",
      "    keras_utils.deserialize_keras_object(\n",
      "  File \"/home/x/miniconda3/envs/tf/lib/python3.9/site-packages/keras/saving/legacy/serialization.py\", line 500, in deserialize_keras_object\n",
      "    (cls, cls_config) = class_and_config_for_serialized_keras_object(\n",
      "  File \"/home/x/miniconda3/envs/tf/lib/python3.9/site-packages/keras/saving/legacy/serialization.py\", line 375, in class_and_config_for_serialized_keras_object\n",
      "    raise ValueError(\n",
      "ValueError: Improper config format for {}. Expecting python dict contains `class_name` and `config` as keys\n",
      "\n"
     ]
    },
    {
     "ename": "SystemExit",
     "evalue": "-1",
     "output_type": "error",
     "traceback": [
      "An exception has occurred, use %tb to see the full traceback.\n",
      "\u001b[0;31mSystemExit\u001b[0m\u001b[0;31m:\u001b[0m -1\n"
     ]
    },
    {
     "name": "stderr",
     "output_type": "stream",
     "text": [
      "/home/x/.local/lib/python3.9/site-packages/IPython/core/interactiveshell.py:3468: UserWarning: To exit: use 'exit', 'quit', or Ctrl-D.\n",
      "  warn(\"To exit: use 'exit', 'quit', or Ctrl-D.\", stacklevel=1)\n"
     ]
    }
   ],
   "source": [
    "import atheris\n",
    "import sys \n",
    "import json\n",
    "\n",
    "import tensorflow.keras.utils as keras_utils\n",
    "\n",
    "@atheris.instrument_func\n",
    "def TestOneInput(data):\n",
    "  fdp = atheris.FuzzedDataProvider(data)\n",
    "  try:\n",
    "    json_dict = json.loads(fdp.ConsumeUnicodeNoSurrogates(sys.maxsize))\n",
    "  except:\n",
    "    return\n",
    "  \n",
    "  if not isinstance(json_dict, dict):\n",
    "    return\n",
    "\n",
    "  keras_utils.deserialize_keras_object(\n",
    "    json_dict,\n",
    "    custom_objects=None\n",
    "  )\n",
    "\n",
    "atheris.Setup(sys.argv, TestOneInput)\n",
    "atheris.Fuzz()"
   ]
  },
  {
   "attachments": {},
   "cell_type": "markdown",
   "metadata": {},
   "source": [
    "Running this returned:\n",
    "```\n",
    "ValueError: Improper config format for {}. Expecting python dict contains `class_name` and `config` as keys\n",
    "```\n",
    "Here are some dicts from the test functions."
   ]
  },
  {
   "cell_type": "code",
   "execution_count": null,
   "metadata": {},
   "outputs": [],
   "source": [
    "dict_structure = {\n",
    "        \"class_name\": \"Adam\",\n",
    "        \"config\": {\n",
    "            \"amsgrad\": false,\n",
    "            \"beta_1\": 0.8999999761581421,\n",
    "            \"beta_2\": 0.9990000128746033,\n",
    "            \"decay\": 0.0,\n",
    "            \"epsilon\": 1e-07,\n",
    "            \"learning_rate\": 0.0010000000474974513,\n",
    "            \"name\": \"Adam\"\n",
    "        },\n",
    "        \"module\": \"keras.optimizers\",\n",
    "        \"registered_name\": None\n",
    "    }\n",
    "    # Returns an `Adam` instance identical to the original one.\n",
    "    deserialize_keras_object(dict_structure)\n",
    "\n",
    "    dict_structure = {\n",
    "      \"class_name\": \"LossesContainer\",\n",
    "      \"config\": {\n",
    "          \"losses\": [...],\n",
    "          \"total_loss_mean\": {...},\n",
    "      },\n",
    "      \"module\": \"keras.engine.compile_utils\",\n",
    "      \"registered_name\": \"LossesContainer\"\n",
    "    }\n",
    "    # Returns a `LossesContainer` instance identical to the original one.\n",
    "    deserialize_keras_object(dict_structure)\n",
    "\n",
    "\n",
    "dict_structure = {\n",
    "        \"class_name\": \"ModifiedMeanSquaredError\",\n",
    "        \"config\": {\n",
    "            \"fn\": \"mean_squared_error\",\n",
    "            \"name\": \"mean_squared_error\",\n",
    "            \"reduction\": \"auto\"\n",
    "        },\n",
    "        \"registered_name\": \"my_package>ModifiedMeanSquaredError\"\n",
    "    }\n",
    "    # Returns the `ModifiedMeanSquaredError` object\n",
    "    deserialize_keras_object(dict_structure)"
   ]
  },
  {
   "attachments": {},
   "cell_type": "markdown",
   "metadata": {},
   "source": [
    "We can skip that error by adding ValueError exception checks."
   ]
  },
  {
   "cell_type": "code",
   "execution_count": 1,
   "metadata": {},
   "outputs": [
    {
     "name": "stderr",
     "output_type": "stream",
     "text": [
      "2023-03-13 17:54:23.529476: I tensorflow/core/platform/cpu_feature_guard.cc:193] This TensorFlow binary is optimized with oneAPI Deep Neural Network Library (oneDNN) to use the following CPU instructions in performance-critical operations:  AVX2 FMA\n",
      "To enable them in other operations, rebuild TensorFlow with the appropriate compiler flags.\n",
      "INFO: Using built-in libfuzzer\n",
      "WARNING: Failed to find function \"__sanitizer_acquire_crash_state\".\n",
      "WARNING: Failed to find function \"__sanitizer_print_stack_trace\".\n",
      "WARNING: Failed to find function \"__sanitizer_set_death_callback\".\n",
      "INFO: libFuzzer ignores flags that start with '--'\n",
      "INFO: Running with entropic power schedule (0xFF, 100).\n",
      "INFO: Seed: 3326628161\n",
      "INFO: -max_len is not provided; libFuzzer will not generate inputs larger than 4096 bytes\n",
      "INFO: A corpus is not provided, starting from an empty corpus\n",
      "#2\tINITED cov: 1 ft: 1 corp: 1/1b exec/s: 0 rss: 355Mb\n",
      "#149\tNEW    cov: 2 ft: 2 corp: 2/3b lim: 4 exec/s: 0 rss: 355Mb L: 2/2 MS: 2 ChangeByte-InsertByte-\n",
      "#1048576\tpulse  cov: 2 ft: 2 corp: 2/3b lim: 4096 exec/s: 209715 rss: 355Mb\n",
      "#1965389\tNEW    cov: 5 ft: 5 corp: 3/6b lim: 4096 exec/s: 218376 rss: 355Mb L: 3/3 MS: 5 CMP-CopyPart-ChangeBit-ShuffleBytes-ChangeByte- DE: \"\\377\\377\"-\n",
      "#2097152\tpulse  cov: 5 ft: 5 corp: 3/6b lim: 4096 exec/s: 233016 rss: 355Mb\n",
      "#4194304\tpulse  cov: 5 ft: 5 corp: 3/6b lim: 4096 exec/s: 209715 rss: 355Mb\n",
      "#8388608\tpulse  cov: 5 ft: 5 corp: 3/6b lim: 4096 exec/s: 239674 rss: 356Mb\n",
      "#16777216\tpulse  cov: 5 ft: 5 corp: 3/6b lim: 4096 exec/s: 229824 rss: 356Mb\n",
      "#33554432\tpulse  cov: 5 ft: 5 corp: 3/6b lim: 4096 exec/s: 228261 rss: 357Mb\n"
     ]
    }
   ],
   "source": [
    "import sys\n",
    "import atheris\n",
    "import json\n",
    "import keras\n",
    "\n",
    "import tensorflow.keras.utils as keras_utils\n",
    "\n",
    "@atheris.instrument_func\n",
    "def TestOneInput(data):\n",
    "    fdp = atheris.FuzzedDataProvider(data)\n",
    "    try:\n",
    "        json_dict = json.loads(fdp.ConsumeUnicodeNoSurrogates(sys.maxsize))\n",
    "    except:\n",
    "        return\n",
    "\n",
    "    if not isinstance(json_dict, dict):\n",
    "        return\n",
    "\n",
    "    try:\n",
    "        keras_utils.deserialize_keras_object(\n",
    "        json_dict,\n",
    "        custom_objects=None\n",
    "\t    )\n",
    "    except ValueError:\n",
    "        return\n",
    "\n",
    "def main():\n",
    "\tatheris.Setup(sys.argv, TestOneInput)\n",
    "\tatheris.Fuzz()\n",
    "\n",
    "if __name__ == \"__main__\":\n",
    "\tmain()"
   ]
  },
  {
   "attachments": {},
   "cell_type": "markdown",
   "metadata": {},
   "source": [
    "Adding these dict keys can be a possible solution:"
   ]
  },
  {
   "cell_type": "code",
   "execution_count": 1,
   "metadata": {},
   "outputs": [
    {
     "name": "stderr",
     "output_type": "stream",
     "text": [
      "2023-03-17 10:43:22.220752: I tensorflow/core/platform/cpu_feature_guard.cc:193] This TensorFlow binary is optimized with oneAPI Deep Neural Network Library (oneDNN) to use the following CPU instructions in performance-critical operations:  AVX2 FMA\n",
      "To enable them in other operations, rebuild TensorFlow with the appropriate compiler flags.\n",
      "INFO: Using built-in libfuzzer\n",
      "WARNING: Failed to find function \"__sanitizer_acquire_crash_state\".\n",
      "WARNING: Failed to find function \"__sanitizer_print_stack_trace\".\n",
      "WARNING: Failed to find function \"__sanitizer_set_death_callback\".\n",
      "INFO: libFuzzer ignores flags that start with '--'\n",
      "INFO: Running with entropic power schedule (0xFF, 100).\n",
      "INFO: Seed: 2287497408\n",
      "INFO: -max_len is not provided; libFuzzer will not generate inputs larger than 4096 bytes\n",
      "INFO: A corpus is not provided, starting from an empty corpus\n",
      "#2\tINITED cov: 1 ft: 1 corp: 1/1b exec/s: 0 rss: 758Mb\n",
      "#1048576\tpulse  cov: 1 ft: 1 corp: 1/1b lim: 4096 exec/s: 349525 rss: 758Mb\n",
      "#2097152\tpulse  cov: 1 ft: 1 corp: 1/1b lim: 4096 exec/s: 349525 rss: 758Mb\n",
      "#4194304\tpulse  cov: 1 ft: 1 corp: 1/1b lim: 4096 exec/s: 322638 rss: 758Mb\n"
     ]
    },
    {
     "name": "stdout",
     "output_type": "stream",
     "text": [
      "\n",
      " === Uncaught Python exception: ===\n",
      "ValueError: Unknown object: ''. Please ensure you are using a `keras.utils.custom_object_scope` and that this object is included in the scope. See https://www.tensorflow.org/guide/keras/save_and_serialize#registering_the_custom_object for details.\n"
     ]
    },
    {
     "ename": "SystemExit",
     "evalue": "-1",
     "output_type": "error",
     "traceback": [
      "An exception has occurred, use %tb to see the full traceback.\n",
      "\u001b[0;31mSystemExit\u001b[0m\u001b[0;31m:\u001b[0m -1\n"
     ]
    },
    {
     "name": "stdout",
     "output_type": "stream",
     "text": [
      "Traceback (most recent call last):\n",
      "  File \"/tmp/ipykernel_1684753/2015659447.py\", line 22, in TestOneInput\n",
      "    keras_utils.deserialize_keras_object(\n",
      "  File \"/home/x/miniconda3/envs/tf/lib/python3.9/site-packages/keras/saving/legacy/serialization.py\", line 500, in deserialize_keras_object\n",
      "    (cls, cls_config) = class_and_config_for_serialized_keras_object(\n",
      "  File \"/home/x/miniconda3/envs/tf/lib/python3.9/site-packages/keras/saving/legacy/serialization.py\", line 385, in class_and_config_for_serialized_keras_object\n",
      "    raise ValueError(\n",
      "ValueError: Unknown object: ''. Please ensure you are using a `keras.utils.custom_object_scope` and that this object is included in the scope. See https://www.tensorflow.org/guide/keras/save_and_serialize#registering_the_custom_object for details.\n",
      "\n"
     ]
    },
    {
     "name": "stderr",
     "output_type": "stream",
     "text": [
      "/home/x/.local/lib/python3.9/site-packages/IPython/core/interactiveshell.py:3468: UserWarning: To exit: use 'exit', 'quit', or Ctrl-D.\n",
      "  warn(\"To exit: use 'exit', 'quit', or Ctrl-D.\", stacklevel=1)\n"
     ]
    }
   ],
   "source": [
    "import sys\n",
    "import atheris\n",
    "import json\n",
    "import keras\n",
    "\n",
    "import tensorflow.keras.utils as keras_utils\n",
    "\n",
    "@atheris.instrument_func\n",
    "def TestOneInput(data):\n",
    "    fdp = atheris.FuzzedDataProvider(data)\n",
    "    try:\n",
    "        json_dict = json.loads(fdp.ConsumeUnicodeNoSurrogates(sys.maxsize))\n",
    "       # json_dict['class_name'] =  'tensorflow.keras'\n",
    "        json_dict['class_name'] =  fdp.ConsumeUnicodeNoSurrogates(20)\n",
    "        json_dict['config'] = {}\n",
    "    except:\n",
    "        return\n",
    "\n",
    "    if not isinstance(json_dict, dict):\n",
    "        return\n",
    "    \n",
    "    keras_utils.deserialize_keras_object(\n",
    "        json_dict,\n",
    "        custom_objects=None\n",
    "\t    )\n",
    "\n",
    "def main():\n",
    "\tatheris.Setup(sys.argv, TestOneInput)\n",
    "\tatheris.Fuzz()\n",
    "\n",
    "if __name__ == \"__main__\":\n",
    "\tmain()"
   ]
  },
  {
   "attachments": {},
   "cell_type": "markdown",
   "metadata": {},
   "source": [
    "Here we combine the aproaches"
   ]
  },
  {
   "cell_type": "code",
   "execution_count": 1,
   "metadata": {},
   "outputs": [
    {
     "name": "stderr",
     "output_type": "stream",
     "text": [
      "2023-03-17 10:45:39.556434: I tensorflow/core/platform/cpu_feature_guard.cc:193] This TensorFlow binary is optimized with oneAPI Deep Neural Network Library (oneDNN) to use the following CPU instructions in performance-critical operations:  AVX2 FMA\n",
      "To enable them in other operations, rebuild TensorFlow with the appropriate compiler flags.\n",
      "INFO: Using built-in libfuzzer\n",
      "WARNING: Failed to find function \"__sanitizer_acquire_crash_state\".\n",
      "WARNING: Failed to find function \"__sanitizer_print_stack_trace\".\n",
      "WARNING: Failed to find function \"__sanitizer_set_death_callback\".\n",
      "INFO: libFuzzer ignores flags that start with '--'\n",
      "INFO: Running with entropic power schedule (0xFF, 100).\n",
      "INFO: Seed: 2199708583\n",
      "INFO: -max_len is not provided; libFuzzer will not generate inputs larger than 4096 bytes\n",
      "INFO: A corpus is not provided, starting from an empty corpus\n",
      "#2\tINITED cov: 1 ft: 1 corp: 1/1b exec/s: 0 rss: 760Mb\n",
      "#1048576\tpulse  cov: 1 ft: 1 corp: 1/1b lim: 4096 exec/s: 349525 rss: 760Mb\n",
      "#2097152\tpulse  cov: 1 ft: 1 corp: 1/1b lim: 4096 exec/s: 349525 rss: 760Mb\n",
      "#3080672\tNEW    cov: 3 ft: 3 corp: 2/4b lim: 4096 exec/s: 342296 rss: 760Mb L: 3/3 MS: 5 InsertByte-ChangeByte-ChangeBinInt-ChangeBit-InsertByte-\n",
      "#4194304\tpulse  cov: 3 ft: 3 corp: 2/4b lim: 4096 exec/s: 299593 rss: 760Mb\n",
      "#8388608\tpulse  cov: 3 ft: 3 corp: 2/4b lim: 4096 exec/s: 289262 rss: 760Mb\n",
      "#16777216\tpulse  cov: 3 ft: 3 corp: 2/4b lim: 4096 exec/s: 289262 rss: 760Mb\n",
      "#33554432\tpulse  cov: 3 ft: 3 corp: 2/4b lim: 4096 exec/s: 284359 rss: 760Mb\n",
      "#67108864\tpulse  cov: 3 ft: 3 corp: 2/4b lim: 4096 exec/s: 279620 rss: 760Mb\n",
      "#134217728\tpulse  cov: 3 ft: 3 corp: 2/4b lim: 4096 exec/s: 279038 rss: 760Mb\n",
      "#268435456\tpulse  cov: 3 ft: 3 corp: 2/4b lim: 4096 exec/s: 280496 rss: 760Mb\n",
      "#536870912\tpulse  cov: 3 ft: 3 corp: 2/4b lim: 4096 exec/s: 279038 rss: 760Mb\n",
      "#1073741824\tpulse  cov: 3 ft: 3 corp: 2/4b lim: 4096 exec/s: 271010 rss: 760Mb\n"
     ]
    }
   ],
   "source": [
    "import atheris\n",
    "import sys \n",
    "import json\n",
    "\n",
    "import tensorflow.keras.utils as keras_utils\n",
    "\n",
    "@atheris.instrument_func\n",
    "def TestOneInput(data):\n",
    "  fdp = atheris.FuzzedDataProvider(data)\n",
    "  try:\n",
    "        json_dict = json.loads(fdp.ConsumeUnicodeNoSurrogates(sys.maxsize))\n",
    "       # json_dict['class_name'] =  'tensorflow.keras'\n",
    "        json_dict['class_name'] =  fdp.ConsumeUnicodeNoSurrogates(20)\n",
    "        json_dict['config'] = {}\n",
    "  except:\n",
    "        return\n",
    "  \n",
    "  if not isinstance(json_dict, dict):\n",
    "    return\n",
    "\n",
    "  try:\n",
    "    keras_utils.deserialize_keras_object(\n",
    "    json_dict\n",
    "  )    \n",
    "  except ValueError:\n",
    "        return  \n",
    "#  except UnicodeDecodeError:\n",
    "#        return\n",
    "#  except StopIteration:\n",
    "#        return\n",
    "#  except IndexError:\n",
    "#        return\n",
    "#  except TypeError:\n",
    "#        return\n",
    "#  except RuntimeError:\n",
    "#        return\n",
    "  \n",
    "atheris.Setup(sys.argv, TestOneInput)\n",
    "atheris.Fuzz()"
   ]
  }
 ],
 "metadata": {
  "kernelspec": {
   "display_name": "tf",
   "language": "python",
   "name": "python3"
  },
  "language_info": {
   "codemirror_mode": {
    "name": "ipython",
    "version": 3
   },
   "file_extension": ".py",
   "mimetype": "text/x-python",
   "name": "python",
   "nbconvert_exporter": "python",
   "pygments_lexer": "ipython3",
   "version": "3.9.16"
  },
  "orig_nbformat": 4,
  "vscode": {
   "interpreter": {
    "hash": "01d67e0c75049fe7f3d66b6d3f6084dc1eaa5a50a5979a7f6618c89c154358b4"
   }
  }
 },
 "nbformat": 4,
 "nbformat_minor": 2
}
