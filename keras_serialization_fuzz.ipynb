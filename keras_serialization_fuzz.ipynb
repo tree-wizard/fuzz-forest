{
 "cells": [
  {
   "cell_type": "code",
   "execution_count": 1,
   "metadata": {},
   "outputs": [
    {
     "name": "stderr",
     "output_type": "stream",
     "text": [
      "2023-03-01 10:24:49.968826: I tensorflow/core/platform/cpu_feature_guard.cc:193] This TensorFlow binary is optimized with oneAPI Deep Neural Network Library (oneDNN) to use the following CPU instructions in performance-critical operations:  AVX2 FMA\n",
      "To enable them in other operations, rebuild TensorFlow with the appropriate compiler flags.\n",
      "2023-03-01 10:24:50.053052: W tensorflow/compiler/xla/stream_executor/platform/default/dso_loader.cc:64] Could not load dynamic library 'libcudart.so.11.0'; dlerror: libcudart.so.11.0: cannot open shared object file: No such file or directory\n",
      "2023-03-01 10:24:50.053071: I tensorflow/compiler/xla/stream_executor/cuda/cudart_stub.cc:29] Ignore above cudart dlerror if you do not have a GPU set up on your machine.\n",
      "2023-03-01 10:24:51.216626: W tensorflow/compiler/xla/stream_executor/platform/default/dso_loader.cc:64] Could not load dynamic library 'libnvinfer.so.7'; dlerror: libnvinfer.so.7: cannot open shared object file: No such file or directory\n",
      "2023-03-01 10:24:51.216703: W tensorflow/compiler/xla/stream_executor/platform/default/dso_loader.cc:64] Could not load dynamic library 'libnvinfer_plugin.so.7'; dlerror: libnvinfer_plugin.so.7: cannot open shared object file: No such file or directory\n",
      "2023-03-01 10:24:51.216708: W tensorflow/compiler/tf2tensorrt/utils/py_utils.cc:38] TF-TRT Warning: Cannot dlopen some TensorRT libraries. If you would like to use Nvidia GPU with TensorRT, please make sure the missing libraries mentioned above are installed properly.\n",
      "INFO: Using built-in libfuzzer\n",
      "WARNING: Failed to find function \"__sanitizer_acquire_crash_state\".\n",
      "WARNING: Failed to find function \"__sanitizer_print_stack_trace\".\n",
      "WARNING: Failed to find function \"__sanitizer_set_death_callback\".\n",
      "INFO: libFuzzer ignores flags that start with '--'\n",
      "INFO: Running with entropic power schedule (0xFF, 100).\n",
      "INFO: Seed: 1053070717\n",
      "INFO: -max_len is not provided; libFuzzer will not generate inputs larger than 4096 bytes\n",
      "INFO: A corpus is not provided, starting from an empty corpus\n",
      "#2\tINITED cov: 1 ft: 1 corp: 1/1b exec/s: 0 rss: 363Mb\n",
      "#851\tNEW    cov: 2 ft: 2 corp: 2/3b lim: 11 exec/s: 0 rss: 363Mb L: 2/2 MS: 4 ShuffleBytes-ChangeByte-CopyPart-InsertByte-\n",
      "#1048576\tpulse  cov: 2 ft: 2 corp: 2/3b lim: 4096 exec/s: 262144 rss: 363Mb\n",
      "#2097152\tpulse  cov: 2 ft: 2 corp: 2/3b lim: 4096 exec/s: 262144 rss: 363Mb\n",
      "#4194304\tpulse  cov: 2 ft: 2 corp: 2/3b lim: 4096 exec/s: 279620 rss: 363Mb\n",
      "#8388608\tpulse  cov: 2 ft: 2 corp: 2/3b lim: 4096 exec/s: 254200 rss: 363Mb\n"
     ]
    },
    {
     "name": "stdout",
     "output_type": "stream",
     "text": [
      "\n",
      " === Uncaught Python exception: ===\n",
      "ValueError: Improper config format for {}. Expecting python dict contains `class_name` and `config` as keys\n",
      "Traceback (most recent call last):\n",
      "  File \"/tmp/ipykernel_28958/795878027.py\", line 18, in TestOneInput\n",
      "    keras_utils.deserialize_keras_object(\n",
      "  File \"/home/x/miniconda3/envs/tf/lib/python3.9/site-packages/keras/saving/legacy/serialization.py\", line 500, in deserialize_keras_object\n",
      "    (cls, cls_config) = class_and_config_for_serialized_keras_object(\n",
      "  File \"/home/x/miniconda3/envs/tf/lib/python3.9/site-packages/keras/saving/legacy/serialization.py\", line 375, in class_and_config_for_serialized_keras_object\n",
      "    raise ValueError(\n",
      "ValueError: Improper config format for {}. Expecting python dict contains `class_name` and `config` as keys\n",
      "\n"
     ]
    },
    {
     "ename": "SystemExit",
     "evalue": "-1",
     "output_type": "error",
     "traceback": [
      "An exception has occurred, use %tb to see the full traceback.\n",
      "\u001b[0;31mSystemExit\u001b[0m\u001b[0;31m:\u001b[0m -1\n"
     ]
    },
    {
     "name": "stderr",
     "output_type": "stream",
     "text": [
      "/home/x/.local/lib/python3.9/site-packages/IPython/core/interactiveshell.py:3468: UserWarning: To exit: use 'exit', 'quit', or Ctrl-D.\n",
      "  warn(\"To exit: use 'exit', 'quit', or Ctrl-D.\", stacklevel=1)\n"
     ]
    }
   ],
   "source": [
    "import atheris\n",
    "import sys \n",
    "import json\n",
    "\n",
    "import tensorflow.keras.utils as keras_utils\n",
    "\n",
    "@atheris.instrument_func\n",
    "def TestOneInput(data):\n",
    "  fdp = atheris.FuzzedDataProvider(data)\n",
    "  try:\n",
    "    json_dict = json.loads(fdp.ConsumeUnicodeNoSurrogates(sys.maxsize))\n",
    "  except:\n",
    "    return\n",
    "  \n",
    "  if not isinstance(json_dict, dict):\n",
    "    return\n",
    "\n",
    "  keras_utils.deserialize_keras_object(\n",
    "    json_dict,\n",
    "    custom_objects=None\n",
    "  )\n",
    "\n",
    "atheris.Setup(sys.argv, TestOneInput)\n",
    "atheris.Fuzz()"
   ]
  },
  {
   "attachments": {},
   "cell_type": "markdown",
   "metadata": {},
   "source": [
    "output from fuzzer\n",
    "```\n",
    "INFO: Using built-in libfuzzer\n",
    "WARNING: Failed to find function \"__sanitizer_acquire_crash_state\".\n",
    "WARNING: Failed to find function \"__sanitizer_print_stack_trace\".\n",
    "WARNING: Failed to find function \"__sanitizer_set_death_callback\".\n",
    "INFO: libFuzzer ignores flags that start with '--'\n",
    "INFO: Running with entropic power schedule (0xFF, 100).\n",
    "INFO: Seed: 1053070717\n",
    "INFO: -max_len is not provided; libFuzzer will not generate inputs larger than 4096 bytes\n",
    "INFO: A corpus is not provided, starting from an empty corpus\n",
    "#2\tINITED cov: 1 ft: 1 corp: 1/1b exec/s: 0 rss: 363Mb\n",
    "#851\tNEW    cov: 2 ft: 2 corp: 2/3b lim: 11 exec/s: 0 rss: 363Mb L: 2/2 MS: 4 ShuffleBytes-ChangeByte-CopyPart-InsertByte-\n",
    "#1048576\tpulse  cov: 2 ft: 2 corp: 2/3b lim: 4096 exec/s: 262144 rss: 363Mb\n",
    "#2097152\tpulse  cov: 2 ft: 2 corp: 2/3b lim: 4096 exec/s: 262144 rss: 363Mb\n",
    "#4194304\tpulse  cov: 2 ft: 2 corp: 2/3b lim: 4096 exec/s: 279620 rss: 363Mb\n",
    "#8388608\tpulse  cov: 2 ft: 2 corp: 2/3b lim: 4096 exec/s: 254200 rss: 363Mb\n",
    "\n",
    " === Uncaught Python exception: ===\n",
    "ValueError: Improper config format for {}. Expecting python dict contains `class_name` and `config` as keys\n",
    "Traceback (most recent call last):\n",
    "  File \"/tmp/ipykernel_28958/795878027.py\", line 18, in TestOneInput\n",
    "    keras_utils.deserialize_keras_object(\n",
    "  File \"/home/x/miniconda3/envs/tf/lib/python3.9/site-packages/keras/saving/legacy/serialization.py\", line 500, in deserialize_keras_object\n",
    "    (cls, cls_config) = class_and_config_for_serialized_keras_object(\n",
    "  File \"/home/x/miniconda3/envs/tf/lib/python3.9/site-packages/keras/saving/legacy/serialization.py\", line 375, in class_and_config_for_serialized_keras_object\n",
    "    raise ValueError(\n",
    "ValueError: Improper config format for {}. Expecting python dict contains `class_name` and `config` as keys\n",
    "```"
   ]
  },
  {
   "cell_type": "code",
   "execution_count": 1,
   "metadata": {},
   "outputs": [
    {
     "name": "stderr",
     "output_type": "stream",
     "text": [
      "2023-03-03 11:40:28.541036: I tensorflow/core/platform/cpu_feature_guard.cc:193] This TensorFlow binary is optimized with oneAPI Deep Neural Network Library (oneDNN) to use the following CPU instructions in performance-critical operations:  AVX2 FMA\n",
      "To enable them in other operations, rebuild TensorFlow with the appropriate compiler flags.\n",
      "2023-03-03 11:40:28.855973: W tensorflow/compiler/xla/stream_executor/platform/default/dso_loader.cc:64] Could not load dynamic library 'libcudart.so.11.0'; dlerror: libcudart.so.11.0: cannot open shared object file: No such file or directory\n",
      "2023-03-03 11:40:28.855998: I tensorflow/compiler/xla/stream_executor/cuda/cudart_stub.cc:29] Ignore above cudart dlerror if you do not have a GPU set up on your machine.\n",
      "2023-03-03 11:40:30.285216: W tensorflow/compiler/xla/stream_executor/platform/default/dso_loader.cc:64] Could not load dynamic library 'libnvinfer.so.7'; dlerror: libnvinfer.so.7: cannot open shared object file: No such file or directory\n",
      "2023-03-03 11:40:30.286375: W tensorflow/compiler/xla/stream_executor/platform/default/dso_loader.cc:64] Could not load dynamic library 'libnvinfer_plugin.so.7'; dlerror: libnvinfer_plugin.so.7: cannot open shared object file: No such file or directory\n",
      "2023-03-03 11:40:30.286381: W tensorflow/compiler/tf2tensorrt/utils/py_utils.cc:38] TF-TRT Warning: Cannot dlopen some TensorRT libraries. If you would like to use Nvidia GPU with TensorRT, please make sure the missing libraries mentioned above are installed properly.\n",
      "INFO: Using built-in libfuzzer\n",
      "WARNING: Failed to find function \"__sanitizer_acquire_crash_state\".\n",
      "WARNING: Failed to find function \"__sanitizer_print_stack_trace\".\n",
      "WARNING: Failed to find function \"__sanitizer_set_death_callback\".\n",
      "INFO: libFuzzer ignores flags that start with '--'\n",
      "INFO: Running with entropic power schedule (0xFF, 100).\n",
      "INFO: Seed: 3892046263\n",
      "INFO: -max_len is not provided; libFuzzer will not generate inputs larger than 4096 bytes\n",
      "INFO: A corpus is not provided, starting from an empty corpus\n",
      "#2\tINITED cov: 1 ft: 1 corp: 1/1b exec/s: 0 rss: 359Mb\n",
      "#55\tNEW    cov: 2 ft: 2 corp: 2/3b lim: 4 exec/s: 0 rss: 359Mb L: 2/2 MS: 3 ChangeByte-ChangeByte-InsertByte-\n",
      "#1048576\tpulse  cov: 2 ft: 2 corp: 2/3b lim: 4096 exec/s: 349525 rss: 359Mb\n",
      "#2097152\tpulse  cov: 2 ft: 2 corp: 2/3b lim: 4096 exec/s: 299593 rss: 359Mb\n",
      "#4194304\tpulse  cov: 2 ft: 2 corp: 2/3b lim: 4096 exec/s: 262144 rss: 359Mb\n",
      "#8388608\tpulse  cov: 2 ft: 2 corp: 2/3b lim: 4096 exec/s: 270600 rss: 359Mb\n"
     ]
    },
    {
     "name": "stdout",
     "output_type": "stream",
     "text": [
      "\n",
      " === Uncaught Python exception: ===\n",
      "ValueError: Improper config format for {}. Expecting python dict contains `class_name` and `config` as keys\n",
      "Traceback (most recent call last):\n",
      "  File \"/tmp/ipykernel_28986/1192855677.py\", line 18, in TestOneInput\n",
      "    legacy_serialization.deserialize_keras_object(\n",
      "  File \"/home/x/miniconda3/envs/tf/lib/python3.9/site-packages/keras/saving/legacy/serialization.py\", line 500, in deserialize_keras_object\n",
      "    (cls, cls_config) = class_and_config_for_serialized_keras_object(\n",
      "  File \"/home/x/miniconda3/envs/tf/lib/python3.9/site-packages/keras/saving/legacy/serialization.py\", line 375, in class_and_config_for_serialized_keras_object\n",
      "    raise ValueError(\n",
      "ValueError: Improper config format for {}. Expecting python dict contains `class_name` and `config` as keys\n",
      "\n"
     ]
    },
    {
     "ename": "SystemExit",
     "evalue": "-1",
     "output_type": "error",
     "traceback": [
      "An exception has occurred, use %tb to see the full traceback.\n",
      "\u001b[0;31mSystemExit\u001b[0m\u001b[0;31m:\u001b[0m -1\n"
     ]
    },
    {
     "name": "stderr",
     "output_type": "stream",
     "text": [
      "/home/x/.local/lib/python3.9/site-packages/IPython/core/interactiveshell.py:3468: UserWarning: To exit: use 'exit', 'quit', or Ctrl-D.\n",
      "  warn(\"To exit: use 'exit', 'quit', or Ctrl-D.\", stacklevel=1)\n"
     ]
    },
    {
     "name": "stdout",
     "output_type": "stream",
     "text": [
      "\n",
      " === Timeout: 417s elapsed, timeout=300s ===\n"
     ]
    }
   ],
   "source": [
    "import atheris\n",
    "import sys \n",
    "import json\n",
    "\n",
    "from keras.saving.legacy import serialization as legacy_serialization\n",
    "\n",
    "@atheris.instrument_func\n",
    "def TestOneInput(data):\n",
    "  fdp = atheris.FuzzedDataProvider(data)\n",
    "  try:\n",
    "    json_dict = json.loads(fdp.ConsumeUnicodeNoSurrogates(sys.maxsize))\n",
    "  except:\n",
    "    return\n",
    "  \n",
    "  if not isinstance(json_dict, dict):\n",
    "    return\n",
    "\n",
    "  legacy_serialization.deserialize_keras_object(\n",
    "    json_dict,\n",
    "    custom_objects=None\n",
    "  )\n",
    "\n",
    "atheris.Setup(sys.argv, TestOneInput)\n",
    "atheris.Fuzz()"
   ]
  }
 ],
 "metadata": {
  "kernelspec": {
   "display_name": "tf",
   "language": "python",
   "name": "python3"
  },
  "language_info": {
   "codemirror_mode": {
    "name": "ipython",
    "version": 3
   },
   "file_extension": ".py",
   "mimetype": "text/x-python",
   "name": "python",
   "nbconvert_exporter": "python",
   "pygments_lexer": "ipython3",
   "version": "3.9.16"
  },
  "orig_nbformat": 4,
  "vscode": {
   "interpreter": {
    "hash": "01d67e0c75049fe7f3d66b6d3f6084dc1eaa5a50a5979a7f6618c89c154358b4"
   }
  }
 },
 "nbformat": 4,
 "nbformat_minor": 2
}
