{
 "cells": [
  {
   "attachments": {},
   "cell_type": "markdown",
   "metadata": {},
   "source": [
    "Codex Numpy Fuzzer Results:"
   ]
  },
  {
   "cell_type": "code",
   "execution_count": 1,
   "metadata": {},
   "outputs": [
    {
     "name": "stderr",
     "output_type": "stream",
     "text": [
      "INFO: Instrumenting 21130 functions...\n"
     ]
    },
    {
     "name": "stdout",
     "output_type": "stream",
     "text": [
      "INFO: Instrumentation complete.\n"
     ]
    },
    {
     "name": "stderr",
     "output_type": "stream",
     "text": [
      "INFO: Using built-in libfuzzer\n",
      "WARNING: Failed to find function \"__sanitizer_acquire_crash_state\".\n",
      "WARNING: Failed to find function \"__sanitizer_print_stack_trace\".\n",
      "WARNING: Failed to find function \"__sanitizer_set_death_callback\".\n",
      "INFO: libFuzzer ignores flags that start with '--'\n",
      "INFO: Running with entropic power schedule (0xFF, 100).\n",
      "INFO: Seed: 2793785478\n",
      "INFO: -max_len is not provided; libFuzzer will not generate inputs larger than 4096 bytes\n",
      "INFO: A corpus is not provided, starting from an empty corpus\n",
      "#2\tINITED cov: 1 ft: 1 corp: 1/1b exec/s: 0 rss: 765Mb\n",
      "#78\tNEW    cov: 61 ft: 61 corp: 2/3b lim: 4 exec/s: 0 rss: 765Mb L: 2/2 MS: 1 CrossOver-\n",
      "#498\tNEW    cov: 180 ft: 186 corp: 3/8b lim: 8 exec/s: 0 rss: 765Mb L: 5/5 MS: 5 EraseBytes-InsertRepeatedBytes-CopyPart-InsertByte-CopyPart-\n",
      "#1320\tNEW    cov: 181 ft: 187 corp: 4/13b lim: 14 exec/s: 0 rss: 765Mb L: 5/5 MS: 2 ChangeBinInt-ShuffleBytes-\n",
      "#16279\tNEW    cov: 275 ft: 288 corp: 5/25b lim: 156 exec/s: 0 rss: 765Mb L: 12/12 MS: 4 CrossOver-InsertByte-CopyPart-InsertRepeatedBytes-\n",
      "#16662\tNEW    cov: 298 ft: 361 corp: 6/38b lim: 156 exec/s: 0 rss: 765Mb L: 13/13 MS: 3 CopyPart-ChangeByte-InsertByte-\n",
      "#17037\tNEW    cov: 299 ft: 367 corp: 7/63b lim: 156 exec/s: 0 rss: 765Mb L: 25/25 MS: 5 CopyPart-InsertByte-EraseBytes-ChangeByte-InsertRepeatedBytes-\n",
      "#17390\tNEW    cov: 299 ft: 430 corp: 8/148b lim: 156 exec/s: 0 rss: 765Mb L: 85/85 MS: 3 CopyPart-InsertRepeatedBytes-EraseBytes-\n",
      "#34114\tNEW    cov: 299 ft: 431 corp: 9/280b lim: 317 exec/s: 0 rss: 765Mb L: 132/132 MS: 4 ChangeBit-CopyPart-ShuffleBytes-ChangeBit-\n",
      "#34942\tNEW    cov: 299 ft: 447 corp: 10/305b lim: 325 exec/s: 0 rss: 765Mb L: 25/132 MS: 3 ChangeBinInt-ChangeByte-ChangeByte-\n",
      "#52394\tNEW    cov: 299 ft: 450 corp: 11/331b lim: 493 exec/s: 0 rss: 765Mb L: 26/132 MS: 2 InsertByte-CopyPart-\n",
      "#53253\tNEW    cov: 299 ft: 456 corp: 12/418b lim: 501 exec/s: 0 rss: 765Mb L: 87/132 MS: 4 InsertRepeatedBytes-ChangeByte-InsertRepeatedBytes-EraseBytes-\n",
      "#54418\tNEW    cov: 299 ft: 468 corp: 13/422b lim: 509 exec/s: 0 rss: 765Mb L: 4/132 MS: 5 ChangeBit-ChangeByte-ShuffleBytes-InsertByte-EraseBytes-\n",
      "#72190\tNEW    cov: 299 ft: 471 corp: 14/447b lim: 679 exec/s: 0 rss: 765Mb L: 25/132 MS: 2 CrossOver-ChangeByte-\n",
      "#91735\tNEW    cov: 299 ft: 495 corp: 15/682b lim: 868 exec/s: 91735 rss: 765Mb L: 235/235 MS: 5 CMP-InsertRepeatedBytes-ShuffleBytes-InsertRepeatedBytes-ChangeASCIIInt- DE: \"\\377\\377\\377\\377\"-\n",
      "#92559\tNEW    cov: 299 ft: 513 corp: 16/767b lim: 868 exec/s: 92559 rss: 765Mb L: 85/235 MS: 4 ChangeByte-EraseBytes-InsertByte-PersAutoDict- DE: \"\\377\\377\\377\\377\"-\n",
      "#262144\tpulse  cov: 299 ft: 513 corp: 16/767b lim: 2545 exec/s: 87381 rss: 765Mb\n",
      "#262992\tREDUCE cov: 299 ft: 513 corp: 16/728b lim: 2556 exec/s: 87664 rss: 765Mb L: 46/235 MS: 3 ChangeBinInt-EraseBytes-ChangeBit-\n",
      "#524288\tpulse  cov: 299 ft: 513 corp: 16/728b lim: 4096 exec/s: 87381 rss: 765Mb\n",
      "#543141\tNEW    cov: 299 ft: 517 corp: 17/805b lim: 4096 exec/s: 90523 rss: 765Mb L: 77/235 MS: 4 CopyPart-PersAutoDict-InsertRepeatedBytes-ChangeByte- DE: \"\\377\\377\\377\\377\"-\n",
      "#1048576\tpulse  cov: 299 ft: 517 corp: 17/805b lim: 4096 exec/s: 74898 rss: 765Mb\n",
      "#2097152\tpulse  cov: 299 ft: 517 corp: 17/805b lim: 4096 exec/s: 58254 rss: 765Mb\n",
      "#4194304\tpulse  cov: 299 ft: 517 corp: 17/805b lim: 4096 exec/s: 61680 rss: 765Mb\n",
      "#4212415\tNEW    cov: 299 ft: 518 corp: 18/886b lim: 4096 exec/s: 61049 rss: 765Mb L: 81/235 MS: 4 InsertByte-InsertRepeatedBytes-InsertByte-EraseBytes-\n",
      "#8388608\tpulse  cov: 299 ft: 518 corp: 18/886b lim: 4096 exec/s: 69905 rss: 765Mb\n",
      "#8397210\tNEW    cov: 299 ft: 522 corp: 19/932b lim: 4096 exec/s: 69976 rss: 765Mb L: 46/235 MS: 5 EraseBytes-CopyPart-PersAutoDict-ChangeByte-PersAutoDict- DE: \"\\377\\377\\377\\377\"-\"\\377\\377\\377\\377\"-\n",
      "#16777216\tpulse  cov: 299 ft: 522 corp: 19/932b lim: 4096 exec/s: 69327 rss: 765Mb\n",
      "#33554432\tpulse  cov: 299 ft: 522 corp: 19/932b lim: 4096 exec/s: 69615 rss: 765Mb\n",
      "#67108864\tpulse  cov: 299 ft: 522 corp: 19/932b lim: 4096 exec/s: 66708 rss: 765Mb\n",
      "#134217728\tpulse  cov: 299 ft: 522 corp: 19/932b lim: 4096 exec/s: 67480 rss: 765Mb\n",
      "#268435456\tpulse  cov: 299 ft: 522 corp: 19/932b lim: 4096 exec/s: 73003 rss: 765Mb\n",
      "#536870912\tpulse  cov: 299 ft: 522 corp: 19/932b lim: 4096 exec/s: 75234 rss: 765Mb\n",
      "#1073741824\tpulse  cov: 299 ft: 522 corp: 19/932b lim: 4096 exec/s: 75097 rss: 765Mb\n",
      "#2147483648\tpulse  cov: 299 ft: 522 corp: 19/932b lim: 4096 exec/s: 76338 rss: 765Mb\n",
      "#2147484147\tNEW    cov: 299 ft: 529 corp: 20/1014b lim: 4096 exec/s: 76338 rss: 765Mb L: 82/235 MS: 2 EraseBytes-InsertByte-\n"
     ]
    },
    {
     "name": "stdout",
     "output_type": "stream",
     "text": [
      "KeyboardInterrupt: stopping.\n"
     ]
    },
    {
     "ename": "SystemExit",
     "evalue": "130",
     "output_type": "error",
     "traceback": [
      "An exception has occurred, use %tb to see the full traceback.\n",
      "\u001b[0;31mSystemExit\u001b[0m\u001b[0;31m:\u001b[0m 130\n"
     ]
    },
    {
     "name": "stderr",
     "output_type": "stream",
     "text": [
      "/home/x/.local/lib/python3.9/site-packages/IPython/core/interactiveshell.py:3468: UserWarning: To exit: use 'exit', 'quit', or Ctrl-D.\n",
      "  warn(\"To exit: use 'exit', 'quit', or Ctrl-D.\", stacklevel=1)\n"
     ]
    }
   ],
   "source": [
    "# Function signature is npmatmul(x1: Array, x2: Array, /) -> Array\n",
    "# https://numpy.org/doc/stable/reference/generated/numpy.matmul.html\n",
    "# fuzz test for np.matmul():\n",
    "import sys\n",
    "import atheris\n",
    "import numpy as np\n",
    "\n",
    "def TestOneInput(fuzz_data):\n",
    "  fdp = atheris.FuzzedDataProvider(fuzz_data)\n",
    "  x1 = np.array(fdp.ConsumeIntList(10, 4))\n",
    "  x2 = np.array(fdp.ConsumeIntList(10, 4))\n",
    "  np.matmul(x1, x2)\n",
    "\n",
    "def main():\n",
    "  atheris.instrument_all()\n",
    "  atheris.Setup(sys.argv, TestOneInput, enable_python_coverage=True)\n",
    "  atheris.Fuzz()\n",
    "\n",
    "if __name__ == \"__main__\":\n",
    "  main()"
   ]
  },
  {
   "cell_type": "code",
   "execution_count": 1,
   "metadata": {},
   "outputs": [
    {
     "name": "stderr",
     "output_type": "stream",
     "text": [
      "INFO: Instrumenting 21130 functions...\n"
     ]
    },
    {
     "name": "stdout",
     "output_type": "stream",
     "text": [
      "INFO: Instrumentation complete.\n"
     ]
    },
    {
     "name": "stderr",
     "output_type": "stream",
     "text": [
      "INFO: Using built-in libfuzzer\n",
      "WARNING: Failed to find function \"__sanitizer_acquire_crash_state\".\n",
      "WARNING: Failed to find function \"__sanitizer_print_stack_trace\".\n",
      "WARNING: Failed to find function \"__sanitizer_set_death_callback\".\n",
      "INFO: libFuzzer ignores flags that start with '--'\n",
      "INFO: Running with entropic power schedule (0xFF, 100).\n",
      "INFO: Seed: 2087417849\n",
      "INFO: -max_len is not provided; libFuzzer will not generate inputs larger than 4096 bytes\n",
      "INFO: A corpus is not provided, starting from an empty corpus\n",
      "#2\tINITED cov: 1 ft: 1 corp: 1/1b exec/s: 0 rss: 750Mb\n",
      "#94\tNEW    cov: 173 ft: 173 corp: 2/4b lim: 4 exec/s: 0 rss: 750Mb L: 3/3 MS: 2 CrossOver-CrossOver-\n",
      "#579\tNEW    cov: 173 ft: 180 corp: 3/8b lim: 8 exec/s: 0 rss: 750Mb L: 4/4 MS: 5 CMP-EraseBytes-CrossOver-ShuffleBytes-ShuffleBytes- DE: \"\\000\\000\"-\n",
      "#19038\tNEW    cov: 268 ft: 280 corp: 4/14b lim: 184 exec/s: 0 rss: 750Mb L: 6/6 MS: 4 ShuffleBytes-ChangeByte-CopyPart-CMP- DE: \"\\000\\000\"-\n",
      "#19497\tNEW    cov: 272 ft: 284 corp: 5/17b lim: 184 exec/s: 0 rss: 750Mb L: 3/6 MS: 4 EraseBytes-ShuffleBytes-ChangeBit-ChangeBinInt-\n",
      "#20356\tNEW    cov: 287 ft: 319 corp: 6/23b lim: 191 exec/s: 0 rss: 750Mb L: 6/6 MS: 4 PersAutoDict-CrossOver-CrossOver-CopyPart- DE: \"\\000\\000\"-\n",
      "#20773\tNEW    cov: 287 ft: 325 corp: 7/26b lim: 191 exec/s: 0 rss: 750Mb L: 3/6 MS: 2 ChangeBinInt-CMP- DE: \"\\001\\000\"-\n",
      "#21722\tNEW    cov: 288 ft: 330 corp: 8/69b lim: 198 exec/s: 0 rss: 750Mb L: 43/43 MS: 4 InsertRepeatedBytes-EraseBytes-ChangeByte-CrossOver-\n",
      "#22101\tNEW    cov: 288 ft: 336 corp: 9/75b lim: 198 exec/s: 0 rss: 750Mb L: 6/43 MS: 4 ShuffleBytes-InsertByte-PersAutoDict-CopyPart- DE: \"\\000\\000\"-\n",
      "#22497\tNEW    cov: 299 ft: 427 corp: 10/78b lim: 198 exec/s: 0 rss: 750Mb L: 3/43 MS: 1 CopyPart-\n",
      "#41710\tNEW    cov: 299 ft: 428 corp: 11/87b lim: 381 exec/s: 0 rss: 750Mb L: 9/43 MS: 3 PersAutoDict-CopyPart-ShuffleBytes- DE: \"\\000\\000\"-\n",
      "#43545\tNEW    cov: 299 ft: 486 corp: 12/201b lim: 397 exec/s: 0 rss: 750Mb L: 114/114 MS: 5 CrossOver-EraseBytes-InsertRepeatedBytes-ChangeBit-PersAutoDict- DE: \"\\001\\000\"-\n",
      "#63759\tNEW    cov: 299 ft: 489 corp: 13/300b lim: 589 exec/s: 0 rss: 750Mb L: 99/114 MS: 4 CopyPart-ChangeBinInt-InsertRepeatedBytes-ChangeBit-\n",
      "#83985\tREDUCE cov: 299 ft: 489 corp: 13/299b lim: 787 exec/s: 0 rss: 750Mb L: 5/114 MS: 1 EraseBytes-\n",
      "#262144\tpulse  cov: 299 ft: 489 corp: 13/299b lim: 2556 exec/s: 131072 rss: 750Mb\n",
      "#524288\tpulse  cov: 299 ft: 489 corp: 13/299b lim: 4096 exec/s: 87381 rss: 750Mb\n",
      "#1048576\tpulse  cov: 299 ft: 489 corp: 13/299b lim: 4096 exec/s: 87381 rss: 750Mb\n",
      "#2097152\tpulse  cov: 299 ft: 489 corp: 13/299b lim: 4096 exec/s: 83886 rss: 750Mb\n",
      "#4194304\tpulse  cov: 299 ft: 489 corp: 13/299b lim: 4096 exec/s: 89240 rss: 750Mb\n",
      "#8388608\tpulse  cov: 299 ft: 489 corp: 13/299b lim: 4096 exec/s: 89240 rss: 750Mb\n",
      "#16777216\tpulse  cov: 299 ft: 489 corp: 13/299b lim: 4096 exec/s: 91180 rss: 750Mb\n",
      "#33554432\tpulse  cov: 299 ft: 489 corp: 13/299b lim: 4096 exec/s: 86037 rss: 750Mb\n",
      "#33572725\tNEW    cov: 299 ft: 492 corp: 14/336b lim: 4096 exec/s: 86083 rss: 750Mb L: 37/114 MS: 5 InsertRepeatedBytes-ChangeByte-EraseBytes-ChangeByte-ChangeBinInt-\n",
      "#67108864\tpulse  cov: 299 ft: 492 corp: 14/336b lim: 4096 exec/s: 73827 rss: 750Mb\n",
      "#134217728\tpulse  cov: 299 ft: 492 corp: 14/336b lim: 4096 exec/s: 73543 rss: 750Mb\n",
      "#134237941\tNEW    cov: 299 ft: 493 corp: 15/339b lim: 4096 exec/s: 73514 rss: 750Mb L: 3/114 MS: 1 PersAutoDict- DE: \"\\001\\000\"-\n",
      "#268435456\tpulse  cov: 299 ft: 493 corp: 15/339b lim: 4096 exec/s: 80106 rss: 750Mb\n",
      "#536870912\tpulse  cov: 299 ft: 493 corp: 15/339b lim: 4096 exec/s: 83468 rss: 750Mb\n",
      "#1073741824\tpulse  cov: 299 ft: 493 corp: 15/339b lim: 4096 exec/s: 85116 rss: 750Mb\n",
      "#2147483648\tpulse  cov: 299 ft: 493 corp: 15/339b lim: 4096 exec/s: 86185 rss: 750Mb\n",
      "#2147503885\tREDUCE cov: 299 ft: 493 corp: 15/336b lim: 4096 exec/s: 86182 rss: 750Mb L: 6/114 MS: 4 ShuffleBytes-EraseBytes-ShuffleBytes-ChangeByte-\n",
      "#2147504343\tNEW    cov: 299 ft: 496 corp: 16/457b lim: 4096 exec/s: 86182 rss: 750Mb L: 121/121 MS: 3 PersAutoDict-InsertRepeatedBytes-ChangeByte- DE: \"\\000\\000\"-\n"
     ]
    },
    {
     "name": "stdout",
     "output_type": "stream",
     "text": [
      "KeyboardInterrupt: stopping.\n"
     ]
    },
    {
     "ename": "SystemExit",
     "evalue": "130",
     "output_type": "error",
     "traceback": [
      "An exception has occurred, use %tb to see the full traceback.\n",
      "\u001b[0;31mSystemExit\u001b[0m\u001b[0;31m:\u001b[0m 130\n"
     ]
    },
    {
     "name": "stderr",
     "output_type": "stream",
     "text": [
      "/home/x/.local/lib/python3.9/site-packages/IPython/core/interactiveshell.py:3468: UserWarning: To exit: use 'exit', 'quit', or Ctrl-D.\n",
      "  warn(\"To exit: use 'exit', 'quit', or Ctrl-D.\", stacklevel=1)\n"
     ]
    }
   ],
   "source": [
    "# Function signature is np.array(object, dtype=None, copy=True, order='K', subok=False, ndmin=0)\n",
    "# https://numpy.org/doc/stable/reference/generated/numpy.array.html\n",
    "# fuzz test for np.array():\n",
    "import sys\n",
    "import atheris\n",
    "import numpy as np\n",
    "\n",
    "def TestOneInput(fuzz_data):\n",
    "  fdp = atheris.FuzzedDataProvider(fuzz_data)\n",
    "  x1 = np.array(fdp.ConsumeIntList(10, 4))\n",
    "  x2 = np.array(fdp.ConsumeIntList(10, 4))\n",
    "  # np.array(x1, x2) have comment out because it will raise TypeError\n",
    "\n",
    "def main():\n",
    "  atheris.instrument_all()\n",
    "  atheris.Setup(sys.argv, TestOneInput, enable_python_coverage=True)\n",
    "  atheris.Fuzz()\n",
    "\n",
    "if __name__ == \"__main__\":\n",
    "  main()"
   ]
  },
  {
   "cell_type": "code",
   "execution_count": 1,
   "metadata": {},
   "outputs": [
    {
     "name": "stderr",
     "output_type": "stream",
     "text": [
      "INFO: Instrumenting 21130 functions...\n"
     ]
    },
    {
     "name": "stdout",
     "output_type": "stream",
     "text": [
      "INFO: Instrumentation complete.\n"
     ]
    },
    {
     "name": "stderr",
     "output_type": "stream",
     "text": [
      "INFO: Using built-in libfuzzer\n",
      "WARNING: Failed to find function \"__sanitizer_acquire_crash_state\".\n",
      "WARNING: Failed to find function \"__sanitizer_print_stack_trace\".\n",
      "WARNING: Failed to find function \"__sanitizer_set_death_callback\".\n",
      "INFO: libFuzzer ignores flags that start with '--'\n",
      "INFO: Running with entropic power schedule (0xFF, 100).\n",
      "INFO: Seed: 1076720049\n",
      "INFO: -max_len is not provided; libFuzzer will not generate inputs larger than 4096 bytes\n",
      "INFO: A corpus is not provided, starting from an empty corpus\n",
      "#2\tINITED cov: 8 ft: 8 corp: 1/1b exec/s: 0 rss: 762Mb\n",
      "#45\tNEW    cov: 188 ft: 188 corp: 2/3b lim: 4 exec/s: 0 rss: 762Mb L: 2/2 MS: 3 InsertByte-ChangeByte-CrossOver-\n",
      "#337\tNEW    cov: 188 ft: 195 corp: 3/9b lim: 6 exec/s: 0 rss: 762Mb L: 6/6 MS: 2 CopyPart-InsertRepeatedBytes-\n",
      "#12937\tNEW    cov: 282 ft: 296 corp: 4/13b lim: 128 exec/s: 0 rss: 762Mb L: 4/6 MS: 5 InsertByte-ChangeBinInt-InsertByte-ChangeBit-ChangeByte-\n",
      "#13245\tNEW    cov: 305 ft: 370 corp: 5/15b lim: 128 exec/s: 0 rss: 762Mb L: 2/6 MS: 3 CrossOver-EraseBytes-ChangeBit-\n",
      "#13543\tNEW    cov: 305 ft: 380 corp: 6/22b lim: 128 exec/s: 0 rss: 762Mb L: 7/7 MS: 3 CrossOver-ChangeASCIIInt-CrossOver-\n",
      "#13869\tNEW    cov: 306 ft: 385 corp: 7/24b lim: 128 exec/s: 0 rss: 762Mb L: 2/7 MS: 1 ChangeBit-\n",
      "#14442\tNEW    cov: 306 ft: 386 corp: 8/27b lim: 128 exec/s: 0 rss: 762Mb L: 3/7 MS: 3 ChangeBit-ShuffleBytes-InsertByte-\n",
      "#15018\tNEW    cov: 306 ft: 446 corp: 9/29b lim: 128 exec/s: 0 rss: 762Mb L: 2/7 MS: 1 CopyPart-\n",
      "#27482\tNEW    cov: 306 ft: 447 corp: 10/36b lim: 247 exec/s: 0 rss: 762Mb L: 7/7 MS: 4 InsertByte-ShuffleBytes-EraseBytes-ChangeByte-\n",
      "#28134\tNEW    cov: 306 ft: 453 corp: 11/39b lim: 247 exec/s: 0 rss: 762Mb L: 3/7 MS: 2 CrossOver-InsertByte-\n",
      "#28734\tNEW    cov: 306 ft: 472 corp: 12/97b lim: 247 exec/s: 0 rss: 762Mb L: 58/58 MS: 5 InsertRepeatedBytes-ChangeByte-ChangeByte-CMP-EraseBytes- DE: \"\\000\\000\\000\\000\\000\\000\\000\\000\"-\n",
      "#29037\tNEW    cov: 306 ft: 473 corp: 13/99b lim: 247 exec/s: 0 rss: 762Mb L: 2/58 MS: 3 InsertByte-EraseBytes-ShuffleBytes-\n",
      "#42016\tREDUCE cov: 306 ft: 473 corp: 13/98b lim: 373 exec/s: 0 rss: 762Mb L: 6/58 MS: 4 ChangeByte-ShuffleBytes-EraseBytes-ChangeBinInt-\n",
      "#57185\tNEW    cov: 306 ft: 497 corp: 14/240b lim: 517 exec/s: 0 rss: 762Mb L: 142/142 MS: 4 ShuffleBytes-InsertRepeatedBytes-EraseBytes-InsertRepeatedBytes-\n",
      "#57858\tNEW    cov: 306 ft: 516 corp: 15/242b lim: 517 exec/s: 0 rss: 762Mb L: 2/142 MS: 3 CopyPart-CrossOver-CopyPart-\n",
      "#131072\tpulse  cov: 306 ft: 516 corp: 15/242b lim: 1240 exec/s: 65536 rss: 762Mb\n",
      "#262144\tpulse  cov: 306 ft: 516 corp: 15/242b lim: 2545 exec/s: 65536 rss: 762Mb\n",
      "#524288\tpulse  cov: 306 ft: 516 corp: 15/242b lim: 4096 exec/s: 65536 rss: 762Mb\n",
      "#1048576\tpulse  cov: 306 ft: 516 corp: 15/242b lim: 4096 exec/s: 65536 rss: 762Mb\n",
      "#2097152\tpulse  cov: 306 ft: 516 corp: 15/242b lim: 4096 exec/s: 65536 rss: 762Mb\n",
      "#4194304\tpulse  cov: 306 ft: 516 corp: 15/242b lim: 4096 exec/s: 63550 rss: 764Mb\n",
      "#8388608\tpulse  cov: 306 ft: 516 corp: 15/242b lim: 4096 exec/s: 63550 rss: 1411Mb\n"
     ]
    },
    {
     "ename": "",
     "evalue": "",
     "output_type": "error",
     "traceback": [
      "\u001b[1;31mCanceled future for execute_request message before replies were done"
     ]
    },
    {
     "ename": "",
     "evalue": "",
     "output_type": "error",
     "traceback": [
      "\u001b[1;31mThe Kernel crashed while executing code in the the current cell or a previous cell. Please review the code in the cell(s) to identify a possible cause of the failure. Click <a href='https://aka.ms/vscodeJupyterKernelCrash'>here</a> for more info. View Jupyter <a href='command:jupyter.viewOutput'>log</a> for further details."
     ]
    }
   ],
   "source": [
    "# Function signature is np.array_equal(a1, a2, strict=False)\n",
    "# https://numpy.org/doc/stable/reference/generated/numpy.array_equal.html\n",
    "# fuzz test for np.array_equal():\n",
    "import sys\n",
    "import atheris\n",
    "import numpy as np\n",
    "\n",
    "def TestOneInput(fuzz_data):\n",
    "  fdp = atheris.FuzzedDataProvider(fuzz_data)\n",
    "  x1 = np.array(fdp.ConsumeIntList(10, 4))\n",
    "  x2 = np.array(fdp.ConsumeIntList(10, 4))\n",
    "  np.array_equal(x1, x2)\n",
    "\n",
    "def main():\n",
    "  atheris.instrument_all()\n",
    "  atheris.Setup(sys.argv, TestOneInput, enable_python_coverage=True)\n",
    "  atheris.Fuzz()\n",
    "\n",
    "if __name__ == \"__main__\":\n",
    "  main()"
   ]
  },
  {
   "cell_type": "code",
   "execution_count": 1,
   "metadata": {},
   "outputs": [
    {
     "name": "stderr",
     "output_type": "stream",
     "text": [
      "INFO: Instrumenting 21130 functions...\n"
     ]
    },
    {
     "name": "stdout",
     "output_type": "stream",
     "text": [
      "INFO: Instrumentation complete.\n"
     ]
    },
    {
     "name": "stderr",
     "output_type": "stream",
     "text": [
      "INFO: Using built-in libfuzzer\n",
      "WARNING: Failed to find function \"__sanitizer_acquire_crash_state\".\n",
      "WARNING: Failed to find function \"__sanitizer_print_stack_trace\".\n",
      "WARNING: Failed to find function \"__sanitizer_set_death_callback\".\n",
      "INFO: libFuzzer ignores flags that start with '--'\n",
      "INFO: Running with entropic power schedule (0xFF, 100).\n",
      "INFO: Seed: 1426886841\n",
      "INFO: -max_len is not provided; libFuzzer will not generate inputs larger than 4096 bytes\n",
      "INFO: A corpus is not provided, starting from an empty corpus\n",
      "#2\tINITED cov: 6 ft: 6 corp: 1/1b exec/s: 0 rss: 771Mb\n",
      "#68\tNEW    cov: 178 ft: 178 corp: 2/3b lim: 4 exec/s: 0 rss: 771Mb L: 2/2 MS: 1 InsertByte-\n",
      "#387\tNEW    cov: 178 ft: 185 corp: 3/4b lim: 6 exec/s: 0 rss: 771Mb L: 1/2 MS: 4 InsertRepeatedBytes-CrossOver-ShuffleBytes-ShuffleBytes-\n",
      "#8985\tNEW    cov: 273 ft: 285 corp: 4/71b lim: 86 exec/s: 0 rss: 771Mb L: 67/67 MS: 3 ShuffleBytes-ChangeBit-InsertRepeatedBytes-\n",
      "#9225\tNEW    cov: 304 ft: 397 corp: 5/73b lim: 86 exec/s: 0 rss: 771Mb L: 2/67 MS: 5 CopyPart-ChangeBinInt-ChangeByte-ChangeByte-ChangeByte-\n",
      "#10140\tNEW    cov: 304 ft: 399 corp: 6/79b lim: 92 exec/s: 0 rss: 771Mb L: 6/67 MS: 5 ChangeBinInt-CrossOver-CopyPart-CrossOver-ChangeBit-\n",
      "#17588\tNEW    cov: 304 ft: 400 corp: 7/106b lim: 163 exec/s: 0 rss: 771Mb L: 27/67 MS: 3 CrossOver-CopyPart-InsertRepeatedBytes-\n",
      "#17851\tNEW    cov: 304 ft: 438 corp: 8/174b lim: 163 exec/s: 0 rss: 771Mb L: 68/68 MS: 3 ChangeBinInt-ChangeBinInt-InsertByte-\n",
      "#31944\tNEW    cov: 304 ft: 455 corp: 9/182b lim: 301 exec/s: 0 rss: 771Mb L: 8/68 MS: 3 InsertByte-ChangeBit-InsertByte-\n",
      "#32266\tNEW    cov: 304 ft: 458 corp: 10/190b lim: 301 exec/s: 0 rss: 771Mb L: 8/68 MS: 2 ChangeBit-ChangeBinInt-\n",
      "#32554\tNEW    cov: 304 ft: 464 corp: 11/194b lim: 301 exec/s: 0 rss: 771Mb L: 4/68 MS: 3 ChangeBinInt-EraseBytes-ChangeByte-\n",
      "#33179\tNEW    cov: 304 ft: 480 corp: 12/209b lim: 301 exec/s: 0 rss: 771Mb L: 15/68 MS: 5 ChangeBit-EraseBytes-ChangeBinInt-InsertByte-ChangeBinInt-\n",
      "#47506\tNEW    cov: 304 ft: 482 corp: 13/214b lim: 437 exec/s: 0 rss: 771Mb L: 5/68 MS: 2 EraseBytes-CopyPart-\n",
      "#131072\tpulse  cov: 304 ft: 482 corp: 13/214b lim: 1260 exec/s: 65536 rss: 771Mb\n",
      "#262144\tpulse  cov: 304 ft: 482 corp: 13/214b lim: 2567 exec/s: 65536 rss: 771Mb\n",
      "#524288\tpulse  cov: 304 ft: 482 corp: 13/214b lim: 4096 exec/s: 65536 rss: 771Mb\n",
      "#1048576\tpulse  cov: 304 ft: 482 corp: 13/214b lim: 4096 exec/s: 65536 rss: 771Mb\n",
      "#1063418\tNEW    cov: 304 ft: 486 corp: 14/223b lim: 4096 exec/s: 66463 rss: 771Mb L: 9/68 MS: 2 ChangeBit-CMP- DE: \"\\010\\000\\000\\000\\000\\000\\000\\000\"-\n",
      "#1077777\tREDUCE cov: 304 ft: 486 corp: 14/221b lim: 4096 exec/s: 63398 rss: 771Mb L: 7/68 MS: 4 EraseBytes-ChangeBinInt-CopyPart-ChangeBinInt-\n",
      "#2097152\tpulse  cov: 304 ft: 486 corp: 14/221b lim: 4096 exec/s: 63550 rss: 771Mb\n",
      "#4194304\tpulse  cov: 304 ft: 486 corp: 14/221b lim: 4096 exec/s: 62601 rss: 771Mb\n",
      "#8388608\tpulse  cov: 304 ft: 486 corp: 14/221b lim: 4096 exec/s: 61680 rss: 1407Mb\n"
     ]
    },
    {
     "ename": "",
     "evalue": "",
     "output_type": "error",
     "traceback": [
      "\u001b[1;31mCanceled future for execute_request message before replies were done"
     ]
    },
    {
     "ename": "",
     "evalue": "",
     "output_type": "error",
     "traceback": [
      "\u001b[1;31mThe Kernel crashed while executing code in the the current cell or a previous cell. Please review the code in the cell(s) to identify a possible cause of the failure. Click <a href='https://aka.ms/vscodeJupyterKernelCrash'>here</a> for more info. View Jupyter <a href='command:jupyter.viewOutput'>log</a> for further details."
     ]
    }
   ],
   "source": [
    "# Function signature is np.array_equiv(a1, a2)\n",
    "# https://numpy.org/doc/stable/reference/generated/numpy.array_equiv.html\n",
    "# fuzz test for np.array_equiv():\n",
    "import sys\n",
    "import atheris\n",
    "import numpy as np\n",
    "\n",
    "def TestOneInput(fuzz_data):\n",
    "  fdp = atheris.FuzzedDataProvider(fuzz_data)\n",
    "  x1 = np.array(fdp.ConsumeIntList(10, 4))\n",
    "  x2 = np.array(fdp.ConsumeIntList(10, 4))\n",
    "  np.array_equiv(x1, x2)\n",
    "\n",
    "def main():\n",
    "  atheris.instrument_all()\n",
    "  atheris.Setup(sys.argv, TestOneInput, enable_python_coverage=True)\n",
    "  atheris.Fuzz()\n",
    "\n",
    "if __name__ == \"__main__\":\n",
    "  main()\n"
   ]
  },
  {
   "cell_type": "code",
   "execution_count": 1,
   "metadata": {},
   "outputs": [
    {
     "name": "stderr",
     "output_type": "stream",
     "text": [
      "INFO: Instrumenting 21130 functions...\n"
     ]
    },
    {
     "name": "stdout",
     "output_type": "stream",
     "text": [
      "INFO: Instrumentation complete.\n"
     ]
    },
    {
     "name": "stderr",
     "output_type": "stream",
     "text": [
      "INFO: Using built-in libfuzzer\n",
      "WARNING: Failed to find function \"__sanitizer_acquire_crash_state\".\n",
      "WARNING: Failed to find function \"__sanitizer_print_stack_trace\".\n",
      "WARNING: Failed to find function \"__sanitizer_set_death_callback\".\n",
      "INFO: libFuzzer ignores flags that start with '--'\n",
      "INFO: Running with entropic power schedule (0xFF, 100).\n",
      "INFO: Seed: 164309780\n",
      "INFO: -max_len is not provided; libFuzzer will not generate inputs larger than 4096 bytes\n",
      "INFO: A corpus is not provided, starting from an empty corpus\n",
      "#2\tINITED cov: 77 ft: 77 corp: 1/1b exec/s: 0 rss: 797Mb\n",
      "#48\tNEW    cov: 85 ft: 85 corp: 2/3b lim: 4 exec/s: 0 rss: 797Mb L: 2/2 MS: 1 InsertByte-\n",
      "#2163\tNEW    cov: 208 ft: 208 corp: 3/9b lim: 21 exec/s: 0 rss: 797Mb L: 6/6 MS: 5 CrossOver-InsertRepeatedBytes-ChangeByte-ChangeASCIIInt-ShuffleBytes-\n",
      "#2226\tNEW    cov: 287 ft: 298 corp: 4/12b lim: 21 exec/s: 0 rss: 797Mb L: 3/6 MS: 3 ChangeASCIIInt-ChangeBinInt-EraseBytes-\n",
      "#2372\tNEW    cov: 288 ft: 306 corp: 5/21b lim: 21 exec/s: 0 rss: 797Mb L: 9/9 MS: 1 CrossOver-\n",
      "#2419\tNEW    cov: 313 ft: 390 corp: 6/35b lim: 21 exec/s: 0 rss: 797Mb L: 14/14 MS: 2 CrossOver-CMP- DE: \"\\001\\000\\000\\000\\000\\000\\000\\001\"-\n",
      "#2488\tNEW    cov: 342 ft: 455 corp: 7/49b lim: 21 exec/s: 0 rss: 797Mb L: 14/14 MS: 4 ChangeBit-CopyPart-ChangeASCIIInt-CrossOver-\n",
      "#4984\tNEW    cov: 342 ft: 458 corp: 8/50b lim: 43 exec/s: 0 rss: 797Mb L: 1/14 MS: 1 ShuffleBytes-\n",
      "#7093\tNEW    cov: 342 ft: 460 corp: 9/57b lim: 63 exec/s: 0 rss: 797Mb L: 7/14 MS: 4 ChangeByte-ChangeBit-InsertByte-CopyPart-\n",
      "#7239\tNEW    cov: 342 ft: 467 corp: 10/66b lim: 63 exec/s: 0 rss: 797Mb L: 9/14 MS: 1 PersAutoDict- DE: \"\\001\\000\\000\\000\\000\\000\\000\\001\"-\n",
      "#32768\tpulse  cov: 342 ft: 467 corp: 10/66b lim: 309 exec/s: 10922 rss: 797Mb\n",
      "#65536\tpulse  cov: 342 ft: 467 corp: 10/66b lim: 634 exec/s: 13107 rss: 797Mb\n",
      "#68141\tNEW    cov: 342 ft: 471 corp: 11/182b lim: 661 exec/s: 11356 rss: 797Mb L: 116/116 MS: 2 ChangeByte-InsertRepeatedBytes-\n",
      "#131072\tpulse  cov: 342 ft: 471 corp: 11/182b lim: 1280 exec/s: 11915 rss: 797Mb\n",
      "#262144\tpulse  cov: 342 ft: 471 corp: 11/182b lim: 2589 exec/s: 13797 rss: 797Mb\n",
      "#524288\tpulse  cov: 342 ft: 471 corp: 11/182b lim: 4096 exec/s: 14169 rss: 797Mb\n",
      "#1048576\tpulse  cov: 342 ft: 471 corp: 11/182b lim: 4096 exec/s: 15196 rss: 797Mb\n",
      "#1052406\tNEW    cov: 342 ft: 475 corp: 12/387b lim: 4096 exec/s: 15034 rss: 797Mb L: 205/205 MS: 5 InsertRepeatedBytes-CopyPart-InsertRepeatedBytes-ChangeASCIIInt-ChangeBit-\n",
      "#2097152\tpulse  cov: 342 ft: 475 corp: 12/387b lim: 4096 exec/s: 15650 rss: 797Mb\n",
      "#4194304\tpulse  cov: 342 ft: 475 corp: 12/387b lim: 4096 exec/s: 14217 rss: 1409Mb\n"
     ]
    },
    {
     "ename": "",
     "evalue": "",
     "output_type": "error",
     "traceback": [
      "\u001b[1;31mCanceled future for execute_request message before replies were done"
     ]
    },
    {
     "ename": "",
     "evalue": "",
     "output_type": "error",
     "traceback": [
      "\u001b[1;31mThe Kernel crashed while executing code in the the current cell or a previous cell. Please review the code in the cell(s) to identify a possible cause of the failure. Click <a href='https://aka.ms/vscodeJupyterKernelCrash'>here</a> for more info. View Jupyter <a href='command:jupyter.viewOutput'>log</a> for further details."
     ]
    }
   ],
   "source": [
    "# Function signature is np.array_repr(arr, max_line_width=None, precision=None, suppress_small=None)\n",
    "# https://numpy.org/doc/stable/reference/generated/numpy.array_repr.html\n",
    "# fuzz test for np.array_repr():\n",
    "import sys\n",
    "import atheris\n",
    "import numpy as np\n",
    "\n",
    "def TestOneInput(fuzz_data):\n",
    "  fdp = atheris.FuzzedDataProvider(fuzz_data)\n",
    "  x1 = np.array(fdp.ConsumeIntList(10, 4))\n",
    "  x2 = np.array(fdp.ConsumeIntList(10, 4))\n",
    "  try:\n",
    "    np.array_repr(x1, x2)\n",
    "  except ValueError:\n",
    "      return\n",
    "  #np.array_repr(x1, x2)\n",
    "\n",
    "def main():\n",
    "  atheris.instrument_all()\n",
    "  atheris.Setup(sys.argv, TestOneInput, enable_python_coverage=True)\n",
    "  atheris.Fuzz()\n",
    "\n",
    "if __name__ == \"__main__\":\n",
    "  main()"
   ]
  },
  {
   "attachments": {},
   "cell_type": "markdown",
   "metadata": {},
   "source": [
    "Weigh Modification fuzzers:"
   ]
  },
  {
   "cell_type": "code",
   "execution_count": 1,
   "metadata": {},
   "outputs": [
    {
     "name": "stderr",
     "output_type": "stream",
     "text": [
      "INFO: Instrumenting 21130 functions...\n"
     ]
    },
    {
     "name": "stdout",
     "output_type": "stream",
     "text": [
      "INFO: Instrumentation complete.\n"
     ]
    },
    {
     "name": "stderr",
     "output_type": "stream",
     "text": [
      "INFO: Using built-in libfuzzer\n",
      "WARNING: Failed to find function \"__sanitizer_acquire_crash_state\".\n",
      "WARNING: Failed to find function \"__sanitizer_print_stack_trace\".\n",
      "WARNING: Failed to find function \"__sanitizer_set_death_callback\".\n",
      "INFO: libFuzzer ignores flags that start with '--'\n",
      "INFO: Running with entropic power schedule (0xFF, 100).\n",
      "INFO: Seed: 3243153008\n",
      "INFO: -max_len is not provided; libFuzzer will not generate inputs larger than 4096 bytes\n",
      "INFO: A corpus is not provided, starting from an empty corpus\n",
      "#2\tINITED cov: 1 ft: 1 corp: 1/1b exec/s: 0 rss: 801Mb\n",
      "#3\tNEW    cov: 181 ft: 181 corp: 2/2b lim: 4 exec/s: 0 rss: 801Mb L: 1/1 MS: 1 ChangeByte-\n",
      "#4\tNEW    cov: 181 ft: 188 corp: 3/3b lim: 4 exec/s: 0 rss: 801Mb L: 1/1 MS: 1 ShuffleBytes-\n",
      "#5\tNEW    cov: 181 ft: 189 corp: 4/4b lim: 4 exec/s: 0 rss: 801Mb L: 1/1 MS: 1 ChangeByte-\n",
      "#3281\tNEW    cov: 299 ft: 360 corp: 5/6b lim: 33 exec/s: 0 rss: 801Mb L: 2/2 MS: 1 InsertByte-\n",
      "#3282\tNEW    cov: 299 ft: 438 corp: 6/8b lim: 33 exec/s: 0 rss: 801Mb L: 2/2 MS: 1 CopyPart-\n",
      "#4753\tNEW    cov: 299 ft: 564 corp: 7/11b lim: 43 exec/s: 0 rss: 801Mb L: 3/3 MS: 1 CrossOver-\n",
      "#32768\tpulse  cov: 299 ft: 564 corp: 7/11b lim: 317 exec/s: 10922 rss: 801Mb\n",
      "#65536\tpulse  cov: 299 ft: 564 corp: 7/11b lim: 643 exec/s: 9362 rss: 801Mb\n",
      "#131072\tpulse  cov: 299 ft: 564 corp: 7/11b lim: 1290 exec/s: 9362 rss: 801Mb\n",
      "#262144\tpulse  cov: 299 ft: 564 corp: 7/11b lim: 2600 exec/s: 7710 rss: 801Mb\n",
      "#524288\tpulse  cov: 299 ft: 564 corp: 7/11b lim: 4096 exec/s: 5637 rss: 801Mb\n",
      "#1048576\tpulse  cov: 299 ft: 564 corp: 7/11b lim: 4096 exec/s: 6355 rss: 801Mb\n",
      "#2097152\tpulse  cov: 299 ft: 564 corp: 7/11b lim: 4096 exec/s: 6413 rss: 801Mb\n",
      "#4194304\tpulse  cov: 299 ft: 564 corp: 7/11b lim: 4096 exec/s: 5729 rss: 801Mb\n",
      "#8388608\tpulse  cov: 299 ft: 564 corp: 7/11b lim: 4096 exec/s: 5178 rss: 801Mb\n",
      "#16777216\tpulse  cov: 299 ft: 564 corp: 7/11b lim: 4096 exec/s: 5878 rss: 801Mb\n",
      "#33554432\tpulse  cov: 299 ft: 564 corp: 7/11b lim: 4096 exec/s: 6123 rss: 801Mb\n",
      "#33555702\tREDUCE cov: 299 ft: 564 corp: 7/10b lim: 4096 exec/s: 6122 rss: 801Mb L: 2/2 MS: 4 EraseBytes-CrossOver-InsertByte-EraseBytes-\n",
      "#67108864\tpulse  cov: 299 ft: 564 corp: 7/10b lim: 4096 exec/s: 6115 rss: 801Mb\n"
     ]
    }
   ],
   "source": [
    "# Function signature is np.matmul(x1: Array, x2: Array, /) -> Array\n",
    "# https://numpy.org/doc/stable/reference/generated/numpy.matmul.html\n",
    "# fuzz test for np.matmul():\n",
    "import atheris\n",
    "import sys\n",
    "import numpy as np\n",
    "\n",
    "def TestOneInput(fuzz_data):\n",
    "  fdp = atheris.FuzzedDataProvider(fuzz_data)\n",
    "  shape = fdp.ConsumeIntInRange(1, 100)\n",
    "  x1 = np.random.uniform(size=(shape, shape))\n",
    "  x2 = np.random.uniform(size=(shape, shape))\n",
    "  np.matmul(x1, x2)\n",
    "\n",
    "def main():\n",
    "  atheris.instrument_all()\n",
    "  atheris.Setup(sys.argv, TestOneInput)\n",
    "  atheris.Fuzz()\n",
    "if __name__ == \"__main__\":\n",
    "    main()"
   ]
  },
  {
   "cell_type": "code",
   "execution_count": 1,
   "metadata": {},
   "outputs": [
    {
     "name": "stderr",
     "output_type": "stream",
     "text": [
      "INFO: Instrumenting 21130 functions...\n"
     ]
    },
    {
     "name": "stdout",
     "output_type": "stream",
     "text": [
      "INFO: Instrumentation complete.\n",
      "\n",
      " === Uncaught Python exception: ===\n",
      "ValueError: matmul: Input operand 1 has a mismatch in its core dimension 0, with gufunc signature (n?,k),(k,m?)->(n?,m?) (size 0 is different from 10)\n",
      "Traceback (most recent call last):\n",
      "  File \"/tmp/ipykernel_906965/2035549597.py\", line 12, in TestOneInput\n",
      "    np.matmul(x1, x2)\n",
      "ValueError: matmul: Input operand 1 has a mismatch in its core dimension 0, with gufunc signature (n?,k),(k,m?)->(n?,m?) (size 0 is different from 10)\n",
      "\n"
     ]
    },
    {
     "name": "stderr",
     "output_type": "stream",
     "text": [
      "INFO: Using built-in libfuzzer\n",
      "WARNING: Failed to find function \"__sanitizer_acquire_crash_state\".\n",
      "WARNING: Failed to find function \"__sanitizer_print_stack_trace\".\n",
      "WARNING: Failed to find function \"__sanitizer_set_death_callback\".\n",
      "INFO: libFuzzer ignores flags that start with '--'\n",
      "INFO: Running with entropic power schedule (0xFF, 100).\n",
      "INFO: Seed: 3541380530\n",
      "INFO: -max_len is not provided; libFuzzer will not generate inputs larger than 4096 bytes\n",
      "INFO: A corpus is not provided, starting from an empty corpus\n"
     ]
    },
    {
     "ename": "SystemExit",
     "evalue": "-1",
     "output_type": "error",
     "traceback": [
      "An exception has occurred, use %tb to see the full traceback.\n",
      "\u001b[0;31mSystemExit\u001b[0m\u001b[0;31m:\u001b[0m -1\n"
     ]
    },
    {
     "name": "stderr",
     "output_type": "stream",
     "text": [
      "/home/x/.local/lib/python3.9/site-packages/IPython/core/interactiveshell.py:3468: UserWarning: To exit: use 'exit', 'quit', or Ctrl-D.\n",
      "  warn(\"To exit: use 'exit', 'quit', or Ctrl-D.\", stacklevel=1)\n"
     ]
    }
   ],
   "source": [
    "# Function signature is np.matmul(x1: Array, x2: Array, /) -> Array\n",
    "# https://numpy.org/doc/stable/reference/generated/numpy.matmul.html\n",
    "# fuzz test for np.matmul():\n",
    "import atheris\n",
    "import sys\n",
    "import numpy as np\n",
    "\n",
    "def TestOneInput(data):\n",
    "  fdp = atheris.FuzzedDataProvider(data)\n",
    "  x1 = np.array([fdp.ConsumeInt(8) for _ in range(fdp.ConsumeInt(8))])\n",
    "  x2 = np.array([fdp.ConsumeInt(8) for _ in range(fdp.ConsumeInt(8))])\n",
    "  np.matmul(x1, x2)\n",
    "\n",
    "def main():\n",
    "  atheris.instrument_all()\n",
    "  atheris.Setup(sys.argv, TestOneInput)\n",
    "  atheris.Fuzz()\n",
    "\n",
    "if __name__ == \"__main__\":\n",
    "  main()"
   ]
  },
  {
   "cell_type": "code",
   "execution_count": 1,
   "metadata": {},
   "outputs": [
    {
     "name": "stderr",
     "output_type": "stream",
     "text": [
      "INFO: Instrumenting 21131 functions...\n"
     ]
    },
    {
     "name": "stdout",
     "output_type": "stream",
     "text": [
      "INFO: Instrumentation complete.\n"
     ]
    },
    {
     "name": "stderr",
     "output_type": "stream",
     "text": [
      "INFO: Using built-in libfuzzer\n",
      "WARNING: Failed to find function \"__sanitizer_acquire_crash_state\".\n",
      "WARNING: Failed to find function \"__sanitizer_print_stack_trace\".\n",
      "WARNING: Failed to find function \"__sanitizer_set_death_callback\".\n",
      "INFO: libFuzzer ignores flags that start with '--'\n",
      "INFO: Running with entropic power schedule (0xFF, 100).\n",
      "INFO: Seed: 3449822923\n",
      "INFO: -max_len is not provided; libFuzzer will not generate inputs larger than 4096 bytes\n",
      "INFO: A corpus is not provided, starting from an empty corpus\n",
      "#2\tINITED cov: 6 ft: 6 corp: 1/1b exec/s: 0 rss: 334Mb\n",
      "#71\tNEW    cov: 66 ft: 66 corp: 2/4b lim: 4 exec/s: 0 rss: 334Mb L: 3/3 MS: 4 ChangeBit-InsertByte-InsertByte-ShuffleBytes-\n",
      "#461\tNEW    cov: 185 ft: 191 corp: 3/8b lim: 6 exec/s: 0 rss: 334Mb L: 4/4 MS: 5 InsertByte-ChangeByte-ChangeASCIIInt-ShuffleBytes-ChangeBinInt-\n",
      "#1521\tNEW    cov: 186 ft: 192 corp: 4/11b lim: 14 exec/s: 0 rss: 334Mb L: 3/4 MS: 5 ChangeBit-CrossOver-CrossOver-ChangeBinInt-ShuffleBytes-\n",
      "#16035\tNEW    cov: 280 ft: 293 corp: 5/13b lim: 156 exec/s: 0 rss: 334Mb L: 2/4 MS: 4 ShuffleBytes-ChangeASCIIInt-EraseBytes-ChangeBit-\n",
      "#16423\tNEW    cov: 303 ft: 382 corp: 6/14b lim: 156 exec/s: 0 rss: 334Mb L: 1/4 MS: 3 InsertByte-EraseBytes-ChangeBit-\n",
      "#16802\tNEW    cov: 304 ft: 386 corp: 7/18b lim: 156 exec/s: 0 rss: 334Mb L: 4/4 MS: 4 ShuffleBytes-InsertByte-ChangeBinInt-CopyPart-\n",
      "#17132\tNEW    cov: 304 ft: 450 corp: 8/29b lim: 156 exec/s: 0 rss: 334Mb L: 11/11 MS: 5 ChangeByte-CrossOver-InsertByte-ChangeByte-CMP- DE: \"\\001\\000\\000\\000\\000\\000\\000\\000\"-\n",
      "#32581\tNEW    cov: 304 ft: 451 corp: 9/31b lim: 309 exec/s: 0 rss: 334Mb L: 2/11 MS: 4 ChangeByte-EraseBytes-EraseBytes-CopyPart-\n",
      "#33335\tNEW    cov: 304 ft: 467 corp: 10/34b lim: 309 exec/s: 0 rss: 334Mb L: 3/11 MS: 4 InsertByte-CrossOver-ShuffleBytes-ChangeByte-\n",
      "#38624\tNEW    cov: 304 ft: 506 corp: 11/131b lim: 357 exec/s: 0 rss: 334Mb L: 97/97 MS: 4 InsertRepeatedBytes-PersAutoDict-ShuffleBytes-CrossOver- DE: \"\\001\\000\\000\\000\\000\\000\\000\\000\"-\n",
      "#38872\tNEW    cov: 304 ft: 518 corp: 12/236b lim: 357 exec/s: 0 rss: 334Mb L: 105/105 MS: 3 CrossOver-PersAutoDict-PersAutoDict- DE: \"\\001\\000\\000\\000\\000\\000\\000\\000\"-\"\\001\\000\\000\\000\\000\\000\\000\\000\"-\n",
      "#47367\tNEW    cov: 304 ft: 523 corp: 13/308b lim: 437 exec/s: 0 rss: 334Mb L: 72/105 MS: 5 ChangeByte-ChangeByte-ChangeBit-InsertRepeatedBytes-ChangeBinInt-\n",
      "#47723\tNEW    cov: 304 ft: 531 corp: 14/309b lim: 437 exec/s: 0 rss: 334Mb L: 1/105 MS: 1 ChangeByte-\n",
      "#64028\tNEW    cov: 304 ft: 535 corp: 15/314b lim: 598 exec/s: 64028 rss: 334Mb L: 5/105 MS: 5 ShuffleBytes-PersAutoDict-PersAutoDict-ChangeByte-EraseBytes- DE: \"\\001\\000\\000\\000\\000\\000\\000\\000\"-\"\\001\\000\\000\\000\\000\\000\\000\\000\"-\n",
      "#64277\tNEW    cov: 304 ft: 537 corp: 16/402b lim: 598 exec/s: 64277 rss: 334Mb L: 88/105 MS: 4 EraseBytes-InsertByte-ChangeBit-PersAutoDict- DE: \"\\001\\000\\000\\000\\000\\000\\000\\000\"-\n",
      "#131072\tpulse  cov: 304 ft: 537 corp: 16/402b lim: 1260 exec/s: 65536 rss: 334Mb\n",
      "#262144\tpulse  cov: 304 ft: 537 corp: 16/402b lim: 2556 exec/s: 87381 rss: 334Mb\n",
      "#524288\tpulse  cov: 304 ft: 537 corp: 16/402b lim: 4096 exec/s: 65536 rss: 334Mb\n"
     ]
    },
    {
     "name": "stdout",
     "output_type": "stream",
     "text": [
      "KeyboardInterrupt: stopping.\n"
     ]
    },
    {
     "ename": "SystemExit",
     "evalue": "130",
     "output_type": "error",
     "traceback": [
      "An exception has occurred, use %tb to see the full traceback.\n",
      "\u001b[0;31mSystemExit\u001b[0m\u001b[0;31m:\u001b[0m 130\n"
     ]
    },
    {
     "name": "stderr",
     "output_type": "stream",
     "text": [
      "/home/x/.local/lib/python3.9/site-packages/IPython/core/interactiveshell.py:3468: UserWarning: To exit: use 'exit', 'quit', or Ctrl-D.\n",
      "  warn(\"To exit: use 'exit', 'quit', or Ctrl-D.\", stacklevel=1)\n"
     ]
    }
   ],
   "source": [
    "import sys\n",
    "import atheris\n",
    "from io import StringIO\n",
    "import numpy as np\n",
    "\n",
    "def get_fuzz_types():\n",
    "    # Define the rows\n",
    "    dtype = np.dtype(\n",
    "        [('f0', np.uint16), ('f1', np.float64), ('f2', 'S7'), ('f3', np.int8)]\n",
    "    )\n",
    "\n",
    "    # An expected match\n",
    "    expected = np.array(\n",
    "        [\n",
    "            (1, 2.4, \"a\", -34),\n",
    "            (2, 3.1, \"b\", 29),\n",
    "            (3, 9.9, \"g\", 120),\n",
    "        ],\n",
    "        dtype=dtype\n",
    "    )\n",
    "\n",
    "    return dtype, expected\n",
    "\n",
    "def TestOneInput(fuzz_data):\n",
    "  dtype, expected = get_fuzz_types()\n",
    "  fdp = atheris.FuzzedDataProvider(fuzz_data)\n",
    "  new_data = StringIO(fdp.ConsumeString(sys.maxsize))\n",
    "\n",
    "  try:\n",
    "    np.matmul(new_data, dtype=dtype, delimiter=\";\", skiprows=True)\n",
    "  # Catch all of the exceptions that are caught in \n",
    "  # https://github.com/numpy/numpy/blob/main/numpy/lib/tests/test_loadtxt.py\n",
    "  except StopIteration:\n",
    "    return\n",
    "  except ValueError:\n",
    "    return\n",
    "  except IndexError:\n",
    "    return\n",
    "  except TypeError:\n",
    "    return\n",
    "\n",
    "def main():\n",
    "  atheris.instrument_all()\n",
    "  atheris.Setup(sys.argv, TestOneInput)\n",
    "  atheris.Fuzz()\n",
    "\n",
    "if __name__ == \"__main__\":\n",
    "  main()"
   ]
  },
  {
   "attachments": {},
   "cell_type": "markdown",
   "metadata": {},
   "source": [
    "ChatGPT example:"
   ]
  },
  {
   "cell_type": "code",
   "execution_count": 1,
   "metadata": {},
   "outputs": [
    {
     "name": "stdout",
     "output_type": "stream",
     "text": [
      "\n",
      " === Uncaught Python exception: ===\n",
      "ValueError: cannot reshape array of size 2 into shape (2,2)\n"
     ]
    },
    {
     "name": "stderr",
     "output_type": "stream",
     "text": [
      "INFO: Using built-in libfuzzer\n",
      "WARNING: Failed to find function \"__sanitizer_acquire_crash_state\".\n",
      "WARNING: Failed to find function \"__sanitizer_print_stack_trace\".\n",
      "WARNING: Failed to find function \"__sanitizer_set_death_callback\".\n",
      "INFO: found LLVMFuzzerCustomMutator (0x7f3ad11d2ea0). Disabling -len_control by default.\n",
      "INFO: libFuzzer ignores flags that start with '--'\n",
      "INFO: Running with entropic power schedule (0xFF, 100).\n",
      "INFO: Seed: 3720231343\n",
      "INFO: -max_len is not provided; libFuzzer will not generate inputs larger than 4096 bytes\n"
     ]
    },
    {
     "ename": "SystemExit",
     "evalue": "-1",
     "output_type": "error",
     "traceback": [
      "An exception has occurred, use %tb to see the full traceback.\n",
      "\u001b[0;31mSystemExit\u001b[0m\u001b[0;31m:\u001b[0m -1\n"
     ]
    },
    {
     "name": "stdout",
     "output_type": "stream",
     "text": [
      "Traceback (most recent call last):\n",
      "  File \"/tmp/ipykernel_913923/3006103088.py\", line 22, in TestOneInput\n",
      "    matrix1 = np.reshape(matrix1, (2, 2))\n",
      "  File \"<__array_function__ internals>\", line 200, in reshape\n",
      "  File \"/home/x/miniconda3/envs/tf/lib/python3.9/site-packages/numpy/core/fromnumeric.py\", line 298, in reshape\n",
      "    return _wrapfunc(a, 'reshape', newshape, order=order)\n",
      "  File \"/home/x/miniconda3/envs/tf/lib/python3.9/site-packages/numpy/core/fromnumeric.py\", line 54, in _wrapfunc\n",
      "    return _wrapit(obj, method, *args, **kwds)\n",
      "  File \"/home/x/miniconda3/envs/tf/lib/python3.9/site-packages/numpy/core/fromnumeric.py\", line 43, in _wrapit\n",
      "    result = getattr(asarray(obj), method)(*args, **kwds)\n",
      "ValueError: cannot reshape array of size 2 into shape (2,2)\n",
      "\n"
     ]
    },
    {
     "name": "stderr",
     "output_type": "stream",
     "text": [
      "/home/x/.local/lib/python3.9/site-packages/IPython/core/interactiveshell.py:3468: UserWarning: To exit: use 'exit', 'quit', or Ctrl-D.\n",
      "  warn(\"To exit: use 'exit', 'quit', or Ctrl-D.\", stacklevel=1)\n"
     ]
    },
    {
     "name": "stdout",
     "output_type": "stream",
     "text": [
      "\n",
      " === Timeout: 302s elapsed, timeout=300s ===\n"
     ]
    }
   ],
   "source": [
    "import atheris\n",
    "import sys\n",
    "import numpy as np\n",
    "\n",
    "# Define a custom mutator for the input data\n",
    "def CustomMutator(data):\n",
    "  # We can use the built-in `atheris.Mutate` function to mutate the input data\n",
    "  mutated_data = atheris.Mutate(data)\n",
    "  # Return the mutated data\n",
    "  return mutated_data\n",
    "\n",
    "@atheris.instrument_func\n",
    "def TestOneInput(data):\n",
    "  # Use Atheris to create a FuzzedDataProvider\n",
    "  fdp = atheris.FuzzedDataProvider(data)\n",
    "\n",
    "  # Use the FuzzedDataProvider to generate random matrices for the matrix multiplication\n",
    "  matrix1 = fdp.ConsumeFloatListInRange(2, -100, 100)\n",
    "  matrix2 = fdp.ConsumeFloatListInRange(2, -100, 100)\n",
    "\n",
    "  # Reshape the matrices to be 2x2\n",
    "  matrix1 = np.reshape(matrix1, (2, 2))\n",
    "  matrix2 = np.reshape(matrix2, (2, 2))\n",
    "\n",
    "  # Perform the matrix multiplication\n",
    "  result = np.matmul(matrix1, matrix2)\n",
    "\n",
    "  # Check that the result is a 2x2 matrix\n",
    "  if result.shape != (2, 2):\n",
    "    raise RuntimeError('Unexpected matrix shape')\n",
    "\n",
    "if __name__ == '__main__':\n",
    "  # Set up Atheris with the custom mutator and the TestOneInput function\n",
    "  atheris.Setup(sys.argv, TestOneInput, custom_mutator=CustomMutator)\n",
    "\n",
    "  # Start the fuzzing process\n",
    "  atheris.Fuzz()\n"
   ]
  }
 ],
 "metadata": {
  "kernelspec": {
   "display_name": "tf",
   "language": "python",
   "name": "python3"
  },
  "language_info": {
   "codemirror_mode": {
    "name": "ipython",
    "version": 3
   },
   "file_extension": ".py",
   "mimetype": "text/x-python",
   "name": "python",
   "nbconvert_exporter": "python",
   "pygments_lexer": "ipython3",
   "version": "3.9.16"
  },
  "orig_nbformat": 4
 },
 "nbformat": 4,
 "nbformat_minor": 2
}
